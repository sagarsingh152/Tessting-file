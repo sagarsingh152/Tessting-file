{
 "cells": [
  {
   "cell_type": "markdown",
   "id": "cd76a5d4",
   "metadata": {},
   "source": [
    "# Import libraries \n",
    "\n",
    "\n"
   ]
  },
  {
   "cell_type": "code",
   "execution_count": 1,
   "id": "b99d7233",
   "metadata": {},
   "outputs": [],
   "source": [
    "import pandas as pd \n",
    "import seaborn as sns\n",
    "import matplotlib.pyplot as plt \n",
    "import numpy as np"
   ]
  },
  {
   "cell_type": "markdown",
   "id": "84fec85c",
   "metadata": {},
   "source": [
    "Read the file"
   ]
  },
  {
   "cell_type": "code",
   "execution_count": 2,
   "id": "87191e3a",
   "metadata": {},
   "outputs": [],
   "source": [
    "data=pd.read_csv(\"C:/Users/User/Downloads/dataset.csv\")"
   ]
  },
  {
   "cell_type": "markdown",
   "id": "217183cc",
   "metadata": {},
   "source": [
    "# Exploratory Data Analysis"
   ]
  },
  {
   "cell_type": "code",
   "execution_count": 3,
   "id": "36c6132d",
   "metadata": {},
   "outputs": [
    {
     "data": {
      "text/html": [
       "<div>\n",
       "<style scoped>\n",
       "    .dataframe tbody tr th:only-of-type {\n",
       "        vertical-align: middle;\n",
       "    }\n",
       "\n",
       "    .dataframe tbody tr th {\n",
       "        vertical-align: top;\n",
       "    }\n",
       "\n",
       "    .dataframe thead th {\n",
       "        text-align: right;\n",
       "    }\n",
       "</style>\n",
       "<table border=\"1\" class=\"dataframe\">\n",
       "  <thead>\n",
       "    <tr style=\"text-align: right;\">\n",
       "      <th></th>\n",
       "      <th>name</th>\n",
       "      <th>club</th>\n",
       "      <th>age</th>\n",
       "      <th>position</th>\n",
       "      <th>position_cat</th>\n",
       "      <th>market_value</th>\n",
       "      <th>page_views</th>\n",
       "      <th>fpl_value</th>\n",
       "      <th>fpl_sel</th>\n",
       "      <th>fpl_points</th>\n",
       "      <th>region</th>\n",
       "      <th>nationality</th>\n",
       "      <th>new_foreign</th>\n",
       "      <th>age_cat</th>\n",
       "      <th>club_id</th>\n",
       "      <th>big_club</th>\n",
       "      <th>new_signing</th>\n",
       "    </tr>\n",
       "  </thead>\n",
       "  <tbody>\n",
       "    <tr>\n",
       "      <th>0</th>\n",
       "      <td>Alexis Sanchez</td>\n",
       "      <td>Arsenal</td>\n",
       "      <td>28</td>\n",
       "      <td>LW</td>\n",
       "      <td>1</td>\n",
       "      <td>65.0</td>\n",
       "      <td>4329</td>\n",
       "      <td>12.0</td>\n",
       "      <td>17.10%</td>\n",
       "      <td>264</td>\n",
       "      <td>3.0</td>\n",
       "      <td>Chile</td>\n",
       "      <td>0</td>\n",
       "      <td>4</td>\n",
       "      <td>1</td>\n",
       "      <td>1</td>\n",
       "      <td>0</td>\n",
       "    </tr>\n",
       "    <tr>\n",
       "      <th>1</th>\n",
       "      <td>Mesut Ozil</td>\n",
       "      <td>Arsenal</td>\n",
       "      <td>28</td>\n",
       "      <td>AM</td>\n",
       "      <td>1</td>\n",
       "      <td>50.0</td>\n",
       "      <td>4395</td>\n",
       "      <td>9.5</td>\n",
       "      <td>5.60%</td>\n",
       "      <td>167</td>\n",
       "      <td>2.0</td>\n",
       "      <td>Germany</td>\n",
       "      <td>0</td>\n",
       "      <td>4</td>\n",
       "      <td>1</td>\n",
       "      <td>1</td>\n",
       "      <td>0</td>\n",
       "    </tr>\n",
       "    <tr>\n",
       "      <th>2</th>\n",
       "      <td>Petr Cech</td>\n",
       "      <td>Arsenal</td>\n",
       "      <td>35</td>\n",
       "      <td>GK</td>\n",
       "      <td>4</td>\n",
       "      <td>7.0</td>\n",
       "      <td>1529</td>\n",
       "      <td>5.5</td>\n",
       "      <td>5.90%</td>\n",
       "      <td>134</td>\n",
       "      <td>2.0</td>\n",
       "      <td>Czech Republic</td>\n",
       "      <td>0</td>\n",
       "      <td>6</td>\n",
       "      <td>1</td>\n",
       "      <td>1</td>\n",
       "      <td>0</td>\n",
       "    </tr>\n",
       "    <tr>\n",
       "      <th>3</th>\n",
       "      <td>Theo Walcott</td>\n",
       "      <td>Arsenal</td>\n",
       "      <td>28</td>\n",
       "      <td>RW</td>\n",
       "      <td>1</td>\n",
       "      <td>20.0</td>\n",
       "      <td>2393</td>\n",
       "      <td>7.5</td>\n",
       "      <td>1.50%</td>\n",
       "      <td>122</td>\n",
       "      <td>1.0</td>\n",
       "      <td>England</td>\n",
       "      <td>0</td>\n",
       "      <td>4</td>\n",
       "      <td>1</td>\n",
       "      <td>1</td>\n",
       "      <td>0</td>\n",
       "    </tr>\n",
       "    <tr>\n",
       "      <th>4</th>\n",
       "      <td>Laurent Koscielny</td>\n",
       "      <td>Arsenal</td>\n",
       "      <td>31</td>\n",
       "      <td>CB</td>\n",
       "      <td>3</td>\n",
       "      <td>22.0</td>\n",
       "      <td>912</td>\n",
       "      <td>6.0</td>\n",
       "      <td>0.70%</td>\n",
       "      <td>121</td>\n",
       "      <td>2.0</td>\n",
       "      <td>France</td>\n",
       "      <td>0</td>\n",
       "      <td>4</td>\n",
       "      <td>1</td>\n",
       "      <td>1</td>\n",
       "      <td>0</td>\n",
       "    </tr>\n",
       "  </tbody>\n",
       "</table>\n",
       "</div>"
      ],
      "text/plain": [
       "                name     club  age position  position_cat  market_value  \\\n",
       "0     Alexis Sanchez  Arsenal   28       LW             1          65.0   \n",
       "1         Mesut Ozil  Arsenal   28       AM             1          50.0   \n",
       "2          Petr Cech  Arsenal   35       GK             4           7.0   \n",
       "3       Theo Walcott  Arsenal   28       RW             1          20.0   \n",
       "4  Laurent Koscielny  Arsenal   31       CB             3          22.0   \n",
       "\n",
       "   page_views  fpl_value fpl_sel  fpl_points  region     nationality  \\\n",
       "0        4329       12.0  17.10%         264     3.0           Chile   \n",
       "1        4395        9.5   5.60%         167     2.0         Germany   \n",
       "2        1529        5.5   5.90%         134     2.0  Czech Republic   \n",
       "3        2393        7.5   1.50%         122     1.0         England   \n",
       "4         912        6.0   0.70%         121     2.0          France   \n",
       "\n",
       "   new_foreign  age_cat  club_id  big_club  new_signing  \n",
       "0            0        4        1         1            0  \n",
       "1            0        4        1         1            0  \n",
       "2            0        6        1         1            0  \n",
       "3            0        4        1         1            0  \n",
       "4            0        4        1         1            0  "
      ]
     },
     "execution_count": 3,
     "metadata": {},
     "output_type": "execute_result"
    }
   ],
   "source": [
    "data.head()"
   ]
  },
  {
   "cell_type": "code",
   "execution_count": 4,
   "id": "f2c1b0cc",
   "metadata": {},
   "outputs": [
    {
     "data": {
      "text/plain": [
       "(461, 17)"
      ]
     },
     "execution_count": 4,
     "metadata": {},
     "output_type": "execute_result"
    }
   ],
   "source": [
    "data.shape"
   ]
  },
  {
   "cell_type": "code",
   "execution_count": 5,
   "id": "f245d634",
   "metadata": {},
   "outputs": [
    {
     "name": "stdout",
     "output_type": "stream",
     "text": [
      "The dataset contains 461 rows and 17 columns. The number of rows represent the number of players and 38 is the number of features.\n"
     ]
    }
   ],
   "source": [
    "print('The dataset contains {} rows and {} columns. The number of rows represent the number of players and 38 is the number of features.'.format(data.shape[0],data.shape[1]))"
   ]
  },
  {
   "cell_type": "code",
   "execution_count": 6,
   "id": "225fc998",
   "metadata": {},
   "outputs": [
    {
     "data": {
      "text/plain": [
       "Index(['name', 'club', 'age', 'position', 'position_cat', 'market_value',\n",
       "       'page_views', 'fpl_value', 'fpl_sel', 'fpl_points', 'region',\n",
       "       'nationality', 'new_foreign', 'age_cat', 'club_id', 'big_club',\n",
       "       'new_signing'],\n",
       "      dtype='object')"
      ]
     },
     "execution_count": 6,
     "metadata": {},
     "output_type": "execute_result"
    }
   ],
   "source": [
    "data.columns"
   ]
  },
  {
   "cell_type": "code",
   "execution_count": 7,
   "id": "b183cedc",
   "metadata": {},
   "outputs": [
    {
     "data": {
      "text/plain": [
       "<bound method DataFrame.info of                     name      club  age position  position_cat  market_value  \\\n",
       "0         Alexis Sanchez   Arsenal   28       LW             1          65.0   \n",
       "1             Mesut Ozil   Arsenal   28       AM             1          50.0   \n",
       "2              Petr Cech   Arsenal   35       GK             4           7.0   \n",
       "3           Theo Walcott   Arsenal   28       RW             1          20.0   \n",
       "4      Laurent Koscielny   Arsenal   31       CB             3          22.0   \n",
       "..                   ...       ...  ...      ...           ...           ...   \n",
       "456  Edimilson Fernandes  West+Ham   21       CM             2           5.0   \n",
       "457       Arthur Masuaku  West+Ham   23       LB             3           7.0   \n",
       "458            Sam Byram  West+Ham   23       RB             3           4.5   \n",
       "459      Ashley Fletcher  West+Ham   21       CF             1           1.0   \n",
       "460         Diafra Sakho  West+Ham   27       CF             1          10.0   \n",
       "\n",
       "     page_views  fpl_value fpl_sel  fpl_points  region     nationality  \\\n",
       "0          4329       12.0  17.10%         264     3.0           Chile   \n",
       "1          4395        9.5   5.60%         167     2.0         Germany   \n",
       "2          1529        5.5   5.90%         134     2.0  Czech Republic   \n",
       "3          2393        7.5   1.50%         122     1.0         England   \n",
       "4           912        6.0   0.70%         121     2.0          France   \n",
       "..          ...        ...     ...         ...     ...             ...   \n",
       "456         288        4.5   0.40%          38     2.0     Switzerland   \n",
       "457         199        4.5   0.20%          34     4.0        Congo DR   \n",
       "458         198        4.5   0.30%          29     1.0         England   \n",
       "459         412        4.5   5.90%          16     1.0         England   \n",
       "460         214        5.5   0.10%          12     4.0         Senegal   \n",
       "\n",
       "     new_foreign  age_cat  club_id  big_club  new_signing  \n",
       "0              0        4        1         1            0  \n",
       "1              0        4        1         1            0  \n",
       "2              0        6        1         1            0  \n",
       "3              0        4        1         1            0  \n",
       "4              0        4        1         1            0  \n",
       "..           ...      ...      ...       ...          ...  \n",
       "456            0        1       20         0            1  \n",
       "457            0        2       20         0            1  \n",
       "458            0        2       20         0            0  \n",
       "459            0        1       20         0            1  \n",
       "460            0        3       20         0            0  \n",
       "\n",
       "[461 rows x 17 columns]>"
      ]
     },
     "execution_count": 7,
     "metadata": {},
     "output_type": "execute_result"
    }
   ],
   "source": [
    "data.info"
   ]
  },
  {
   "cell_type": "code",
   "execution_count": 8,
   "id": "230a8b13",
   "metadata": {},
   "outputs": [
    {
     "data": {
      "text/plain": [
       "array(['Arsenal', 'Bournemouth', 'Brighton+and+Hove', 'Burnley',\n",
       "       'Chelsea', 'Crystal+Palace', 'Everton', 'Huddersfield',\n",
       "       'Leicester+City', 'Liverpool', 'Manchester+City',\n",
       "       'Manchester+United', 'Newcastle+United', 'Southampton',\n",
       "       'Stoke+City', 'Swansea', 'Tottenham', 'Watford', 'West+Brom',\n",
       "       'West+Ham'], dtype=object)"
      ]
     },
     "execution_count": 8,
     "metadata": {},
     "output_type": "execute_result"
    }
   ],
   "source": [
    "data['club'].unique()"
   ]
  },
  {
   "cell_type": "code",
   "execution_count": 9,
   "id": "5482c7e8",
   "metadata": {},
   "outputs": [
    {
     "data": {
      "text/plain": [
       "name            0\n",
       "club            0\n",
       "age             0\n",
       "position        0\n",
       "position_cat    0\n",
       "market_value    0\n",
       "page_views      0\n",
       "fpl_value       0\n",
       "fpl_sel         0\n",
       "fpl_points      0\n",
       "region          1\n",
       "nationality     0\n",
       "new_foreign     0\n",
       "age_cat         0\n",
       "club_id         0\n",
       "big_club        0\n",
       "new_signing     0\n",
       "dtype: int64"
      ]
     },
     "execution_count": 9,
     "metadata": {},
     "output_type": "execute_result"
    }
   ],
   "source": [
    "data.isna().sum()"
   ]
  },
  {
   "cell_type": "code",
   "execution_count": 10,
   "id": "658b1dbb",
   "metadata": {},
   "outputs": [
    {
     "data": {
      "text/plain": [
       "(460, 17)"
      ]
     },
     "execution_count": 10,
     "metadata": {},
     "output_type": "execute_result"
    }
   ],
   "source": [
    "data=data.dropna()\n",
    "data.shape"
   ]
  },
  {
   "cell_type": "code",
   "execution_count": 11,
   "id": "a22b4055",
   "metadata": {},
   "outputs": [
    {
     "data": {
      "text/html": [
       "<style  type=\"text/css\" >\n",
       "#T_7a74f_row0_col0{\n",
       "            background-color:  #ff0000;\n",
       "            color:  #f1f1f1;\n",
       "        }#T_7a74f_row1_col0{\n",
       "            background-color:  #fd2929;\n",
       "            color:  #f1f1f1;\n",
       "        }#T_7a74f_row2_col0{\n",
       "            background-color:  #fc3333;\n",
       "            color:  #f1f1f1;\n",
       "        }#T_7a74f_row3_col0{\n",
       "            background-color:  #fb4b4b;\n",
       "            color:  #000000;\n",
       "        }#T_7a74f_row4_col0{\n",
       "            background-color:  #fb5050;\n",
       "            color:  #000000;\n",
       "        }#T_7a74f_row5_col0{\n",
       "            background-color:  #f6abab;\n",
       "            color:  #000000;\n",
       "        }#T_7a74f_row6_col0{\n",
       "            background-color:  #f6b1b1;\n",
       "            color:  #000000;\n",
       "        }#T_7a74f_row7_col0{\n",
       "            background-color:  #f6b2b2;\n",
       "            color:  #000000;\n",
       "        }#T_7a74f_row8_col0{\n",
       "            background-color:  #f5cece;\n",
       "            color:  #000000;\n",
       "        }#T_7a74f_row9_col0{\n",
       "            background-color:  #f4dcdc;\n",
       "            color:  #000000;\n",
       "        }#T_7a74f_row10_col0{\n",
       "            background-color:  #f4e0e0;\n",
       "            color:  #000000;\n",
       "        }#T_7a74f_row11_col0{\n",
       "            background-color:  #f3f0f0;\n",
       "            color:  #000000;\n",
       "        }</style><table id=\"T_7a74f_\" ><thead>    <tr>        <th class=\"blank level0\" ></th>        <th class=\"col_heading level0 col0\" >Correlation to the target</th>    </tr></thead><tbody>\n",
       "                <tr>\n",
       "                        <th id=\"T_7a74f_level0_row0\" class=\"row_heading level0 row0\" >market_value</th>\n",
       "                        <td id=\"T_7a74f_row0_col0\" class=\"data row0 col0\" >1.000000</td>\n",
       "            </tr>\n",
       "            <tr>\n",
       "                        <th id=\"T_7a74f_level0_row1\" class=\"row_heading level0 row1\" >fpl_value</th>\n",
       "                        <td id=\"T_7a74f_row1_col0\" class=\"data row1 col0\" >0.789373</td>\n",
       "            </tr>\n",
       "            <tr>\n",
       "                        <th id=\"T_7a74f_level0_row2\" class=\"row_heading level0 row2\" >page_views</th>\n",
       "                        <td id=\"T_7a74f_row2_col0\" class=\"data row2 col0\" >0.739540</td>\n",
       "            </tr>\n",
       "            <tr>\n",
       "                        <th id=\"T_7a74f_level0_row3\" class=\"row_heading level0 row3\" >fpl_points</th>\n",
       "                        <td id=\"T_7a74f_row3_col0\" class=\"data row3 col0\" >0.615013</td>\n",
       "            </tr>\n",
       "            <tr>\n",
       "                        <th id=\"T_7a74f_level0_row4\" class=\"row_heading level0 row4\" >big_club</th>\n",
       "                        <td id=\"T_7a74f_row4_col0\" class=\"data row4 col0\" >0.593249</td>\n",
       "            </tr>\n",
       "            <tr>\n",
       "                        <th id=\"T_7a74f_level0_row5\" class=\"row_heading level0 row5\" >new_signing</th>\n",
       "                        <td id=\"T_7a74f_row5_col0\" class=\"data row5 col0\" >0.130970</td>\n",
       "            </tr>\n",
       "            <tr>\n",
       "                        <th id=\"T_7a74f_level0_row6\" class=\"row_heading level0 row6\" >region</th>\n",
       "                        <td id=\"T_7a74f_row6_col0\" class=\"data row6 col0\" >0.101659</td>\n",
       "            </tr>\n",
       "            <tr>\n",
       "                        <th id=\"T_7a74f_level0_row7\" class=\"row_heading level0 row7\" >new_foreign</th>\n",
       "                        <td id=\"T_7a74f_row7_col0\" class=\"data row7 col0\" >0.097896</td>\n",
       "            </tr>\n",
       "            <tr>\n",
       "                        <th id=\"T_7a74f_level0_row8\" class=\"row_heading level0 row8\" >club_id</th>\n",
       "                        <td id=\"T_7a74f_row8_col0\" class=\"data row8 col0\" >-0.046486</td>\n",
       "            </tr>\n",
       "            <tr>\n",
       "                        <th id=\"T_7a74f_level0_row9\" class=\"row_heading level0 row9\" >age_cat</th>\n",
       "                        <td id=\"T_7a74f_row9_col0\" class=\"data row9 col0\" >-0.118746</td>\n",
       "            </tr>\n",
       "            <tr>\n",
       "                        <th id=\"T_7a74f_level0_row10\" class=\"row_heading level0 row10\" >age</th>\n",
       "                        <td id=\"T_7a74f_row10_col0\" class=\"data row10 col0\" >-0.133828</td>\n",
       "            </tr>\n",
       "            <tr>\n",
       "                        <th id=\"T_7a74f_level0_row11\" class=\"row_heading level0 row11\" >position_cat</th>\n",
       "                        <td id=\"T_7a74f_row11_col0\" class=\"data row11 col0\" >-0.219174</td>\n",
       "            </tr>\n",
       "    </tbody></table>"
      ],
      "text/plain": [
       "<pandas.io.formats.style.Styler at 0x20fd1440970>"
      ]
     },
     "execution_count": 11,
     "metadata": {},
     "output_type": "execute_result"
    }
   ],
   "source": [
    "dataCorr=pd.DataFrame(data.corr().unstack().sort_values(ascending=False)['market_value'],columns=['Correlation to the target'])\n",
    "dataCorr.style.background_gradient(cmap=sns.light_palette(\"red\", as_cmap=True))"
   ]
  },
  {
   "cell_type": "code",
   "execution_count": 12,
   "id": "8a053a62",
   "metadata": {},
   "outputs": [
    {
     "data": {
      "text/html": [
       "<div>\n",
       "<style scoped>\n",
       "    .dataframe tbody tr th:only-of-type {\n",
       "        vertical-align: middle;\n",
       "    }\n",
       "\n",
       "    .dataframe tbody tr th {\n",
       "        vertical-align: top;\n",
       "    }\n",
       "\n",
       "    .dataframe thead th {\n",
       "        text-align: right;\n",
       "    }\n",
       "</style>\n",
       "<table border=\"1\" class=\"dataframe\">\n",
       "  <thead>\n",
       "    <tr style=\"text-align: right;\">\n",
       "      <th></th>\n",
       "      <th>age</th>\n",
       "      <th>position_cat</th>\n",
       "      <th>market_value</th>\n",
       "      <th>page_views</th>\n",
       "      <th>fpl_value</th>\n",
       "      <th>fpl_points</th>\n",
       "      <th>region</th>\n",
       "      <th>new_foreign</th>\n",
       "      <th>age_cat</th>\n",
       "      <th>club_id</th>\n",
       "      <th>big_club</th>\n",
       "      <th>new_signing</th>\n",
       "    </tr>\n",
       "  </thead>\n",
       "  <tbody>\n",
       "    <tr>\n",
       "      <th>count</th>\n",
       "      <td>460.000000</td>\n",
       "      <td>460.000000</td>\n",
       "      <td>460.000000</td>\n",
       "      <td>460.000000</td>\n",
       "      <td>460.000000</td>\n",
       "      <td>460.00000</td>\n",
       "      <td>460.000000</td>\n",
       "      <td>460.000000</td>\n",
       "      <td>460.000000</td>\n",
       "      <td>460.000000</td>\n",
       "      <td>460.000000</td>\n",
       "      <td>460.000000</td>\n",
       "    </tr>\n",
       "    <tr>\n",
       "      <th>mean</th>\n",
       "      <td>26.815217</td>\n",
       "      <td>2.182609</td>\n",
       "      <td>11.024022</td>\n",
       "      <td>765.315217</td>\n",
       "      <td>5.446739</td>\n",
       "      <td>57.43913</td>\n",
       "      <td>1.993478</td>\n",
       "      <td>0.034783</td>\n",
       "      <td>3.208696</td>\n",
       "      <td>10.339130</td>\n",
       "      <td>0.304348</td>\n",
       "      <td>0.145652</td>\n",
       "    </tr>\n",
       "    <tr>\n",
       "      <th>std</th>\n",
       "      <td>3.959846</td>\n",
       "      <td>0.999631</td>\n",
       "      <td>12.268045</td>\n",
       "      <td>932.233794</td>\n",
       "      <td>1.347915</td>\n",
       "      <td>53.10415</td>\n",
       "      <td>0.957689</td>\n",
       "      <td>0.183428</td>\n",
       "      <td>1.279949</td>\n",
       "      <td>5.731672</td>\n",
       "      <td>0.460632</td>\n",
       "      <td>0.353141</td>\n",
       "    </tr>\n",
       "    <tr>\n",
       "      <th>min</th>\n",
       "      <td>17.000000</td>\n",
       "      <td>1.000000</td>\n",
       "      <td>0.050000</td>\n",
       "      <td>3.000000</td>\n",
       "      <td>4.000000</td>\n",
       "      <td>0.00000</td>\n",
       "      <td>1.000000</td>\n",
       "      <td>0.000000</td>\n",
       "      <td>1.000000</td>\n",
       "      <td>1.000000</td>\n",
       "      <td>0.000000</td>\n",
       "      <td>0.000000</td>\n",
       "    </tr>\n",
       "    <tr>\n",
       "      <th>25%</th>\n",
       "      <td>24.000000</td>\n",
       "      <td>1.000000</td>\n",
       "      <td>3.000000</td>\n",
       "      <td>220.750000</td>\n",
       "      <td>4.500000</td>\n",
       "      <td>5.00000</td>\n",
       "      <td>1.000000</td>\n",
       "      <td>0.000000</td>\n",
       "      <td>2.000000</td>\n",
       "      <td>6.000000</td>\n",
       "      <td>0.000000</td>\n",
       "      <td>0.000000</td>\n",
       "    </tr>\n",
       "    <tr>\n",
       "      <th>50%</th>\n",
       "      <td>27.000000</td>\n",
       "      <td>2.000000</td>\n",
       "      <td>7.000000</td>\n",
       "      <td>460.000000</td>\n",
       "      <td>5.000000</td>\n",
       "      <td>51.00000</td>\n",
       "      <td>2.000000</td>\n",
       "      <td>0.000000</td>\n",
       "      <td>3.000000</td>\n",
       "      <td>10.000000</td>\n",
       "      <td>0.000000</td>\n",
       "      <td>0.000000</td>\n",
       "    </tr>\n",
       "    <tr>\n",
       "      <th>75%</th>\n",
       "      <td>30.000000</td>\n",
       "      <td>3.000000</td>\n",
       "      <td>15.000000</td>\n",
       "      <td>900.000000</td>\n",
       "      <td>5.500000</td>\n",
       "      <td>94.00000</td>\n",
       "      <td>2.000000</td>\n",
       "      <td>0.000000</td>\n",
       "      <td>4.000000</td>\n",
       "      <td>15.000000</td>\n",
       "      <td>1.000000</td>\n",
       "      <td>0.000000</td>\n",
       "    </tr>\n",
       "    <tr>\n",
       "      <th>max</th>\n",
       "      <td>38.000000</td>\n",
       "      <td>4.000000</td>\n",
       "      <td>75.000000</td>\n",
       "      <td>7664.000000</td>\n",
       "      <td>12.500000</td>\n",
       "      <td>264.00000</td>\n",
       "      <td>4.000000</td>\n",
       "      <td>1.000000</td>\n",
       "      <td>6.000000</td>\n",
       "      <td>20.000000</td>\n",
       "      <td>1.000000</td>\n",
       "      <td>1.000000</td>\n",
       "    </tr>\n",
       "  </tbody>\n",
       "</table>\n",
       "</div>"
      ],
      "text/plain": [
       "              age  position_cat  market_value   page_views   fpl_value  \\\n",
       "count  460.000000    460.000000    460.000000   460.000000  460.000000   \n",
       "mean    26.815217      2.182609     11.024022   765.315217    5.446739   \n",
       "std      3.959846      0.999631     12.268045   932.233794    1.347915   \n",
       "min     17.000000      1.000000      0.050000     3.000000    4.000000   \n",
       "25%     24.000000      1.000000      3.000000   220.750000    4.500000   \n",
       "50%     27.000000      2.000000      7.000000   460.000000    5.000000   \n",
       "75%     30.000000      3.000000     15.000000   900.000000    5.500000   \n",
       "max     38.000000      4.000000     75.000000  7664.000000   12.500000   \n",
       "\n",
       "       fpl_points      region  new_foreign     age_cat     club_id  \\\n",
       "count   460.00000  460.000000   460.000000  460.000000  460.000000   \n",
       "mean     57.43913    1.993478     0.034783    3.208696   10.339130   \n",
       "std      53.10415    0.957689     0.183428    1.279949    5.731672   \n",
       "min       0.00000    1.000000     0.000000    1.000000    1.000000   \n",
       "25%       5.00000    1.000000     0.000000    2.000000    6.000000   \n",
       "50%      51.00000    2.000000     0.000000    3.000000   10.000000   \n",
       "75%      94.00000    2.000000     0.000000    4.000000   15.000000   \n",
       "max     264.00000    4.000000     1.000000    6.000000   20.000000   \n",
       "\n",
       "         big_club  new_signing  \n",
       "count  460.000000   460.000000  \n",
       "mean     0.304348     0.145652  \n",
       "std      0.460632     0.353141  \n",
       "min      0.000000     0.000000  \n",
       "25%      0.000000     0.000000  \n",
       "50%      0.000000     0.000000  \n",
       "75%      1.000000     0.000000  \n",
       "max      1.000000     1.000000  "
      ]
     },
     "execution_count": 12,
     "metadata": {},
     "output_type": "execute_result"
    }
   ],
   "source": [
    "data.describe()"
   ]
  },
  {
   "cell_type": "code",
   "execution_count": 13,
   "id": "d2841cb7",
   "metadata": {},
   "outputs": [
    {
     "data": {
      "text/html": [
       "<div>\n",
       "<style scoped>\n",
       "    .dataframe tbody tr th:only-of-type {\n",
       "        vertical-align: middle;\n",
       "    }\n",
       "\n",
       "    .dataframe tbody tr th {\n",
       "        vertical-align: top;\n",
       "    }\n",
       "\n",
       "    .dataframe thead th {\n",
       "        text-align: right;\n",
       "    }\n",
       "</style>\n",
       "<table border=\"1\" class=\"dataframe\">\n",
       "  <thead>\n",
       "    <tr style=\"text-align: right;\">\n",
       "      <th></th>\n",
       "      <th>name</th>\n",
       "      <th>club</th>\n",
       "      <th>age</th>\n",
       "      <th>position</th>\n",
       "      <th>position_cat</th>\n",
       "      <th>market_value</th>\n",
       "      <th>page_views</th>\n",
       "      <th>fpl_value</th>\n",
       "      <th>fpl_sel</th>\n",
       "      <th>fpl_points</th>\n",
       "      <th>region</th>\n",
       "      <th>nationality</th>\n",
       "      <th>new_foreign</th>\n",
       "      <th>age_cat</th>\n",
       "      <th>club_id</th>\n",
       "      <th>big_club</th>\n",
       "      <th>new_signing</th>\n",
       "    </tr>\n",
       "  </thead>\n",
       "  <tbody>\n",
       "    <tr>\n",
       "      <th>0</th>\n",
       "      <td>Alexis Sanchez</td>\n",
       "      <td>Arsenal</td>\n",
       "      <td>28</td>\n",
       "      <td>LW</td>\n",
       "      <td>1</td>\n",
       "      <td>65.0</td>\n",
       "      <td>4329</td>\n",
       "      <td>12.0</td>\n",
       "      <td>17.10%</td>\n",
       "      <td>264</td>\n",
       "      <td>3.0</td>\n",
       "      <td>Chile</td>\n",
       "      <td>0</td>\n",
       "      <td>4</td>\n",
       "      <td>1</td>\n",
       "      <td>1</td>\n",
       "      <td>0</td>\n",
       "    </tr>\n",
       "    <tr>\n",
       "      <th>92</th>\n",
       "      <td>Eden Hazard</td>\n",
       "      <td>Chelsea</td>\n",
       "      <td>26</td>\n",
       "      <td>LW</td>\n",
       "      <td>1</td>\n",
       "      <td>75.0</td>\n",
       "      <td>4220</td>\n",
       "      <td>10.5</td>\n",
       "      <td>2.30%</td>\n",
       "      <td>224</td>\n",
       "      <td>2.0</td>\n",
       "      <td>Belgium</td>\n",
       "      <td>0</td>\n",
       "      <td>3</td>\n",
       "      <td>5</td>\n",
       "      <td>1</td>\n",
       "      <td>0</td>\n",
       "    </tr>\n",
       "    <tr>\n",
       "      <th>240</th>\n",
       "      <td>Kevin De Bruyne</td>\n",
       "      <td>Manchester+City</td>\n",
       "      <td>26</td>\n",
       "      <td>AM</td>\n",
       "      <td>1</td>\n",
       "      <td>65.0</td>\n",
       "      <td>2252</td>\n",
       "      <td>10.0</td>\n",
       "      <td>17.50%</td>\n",
       "      <td>199</td>\n",
       "      <td>2.0</td>\n",
       "      <td>Belgium</td>\n",
       "      <td>0</td>\n",
       "      <td>3</td>\n",
       "      <td>11</td>\n",
       "      <td>1</td>\n",
       "      <td>0</td>\n",
       "    </tr>\n",
       "    <tr>\n",
       "      <th>241</th>\n",
       "      <td>Sergio Aguero</td>\n",
       "      <td>Manchester+City</td>\n",
       "      <td>29</td>\n",
       "      <td>CF</td>\n",
       "      <td>1</td>\n",
       "      <td>65.0</td>\n",
       "      <td>4046</td>\n",
       "      <td>11.5</td>\n",
       "      <td>9.70%</td>\n",
       "      <td>175</td>\n",
       "      <td>3.0</td>\n",
       "      <td>Argentina</td>\n",
       "      <td>0</td>\n",
       "      <td>4</td>\n",
       "      <td>11</td>\n",
       "      <td>1</td>\n",
       "      <td>0</td>\n",
       "    </tr>\n",
       "    <tr>\n",
       "      <th>263</th>\n",
       "      <td>Paul Pogba</td>\n",
       "      <td>Manchester+United</td>\n",
       "      <td>24</td>\n",
       "      <td>CM</td>\n",
       "      <td>2</td>\n",
       "      <td>75.0</td>\n",
       "      <td>7435</td>\n",
       "      <td>8.0</td>\n",
       "      <td>19.50%</td>\n",
       "      <td>115</td>\n",
       "      <td>2.0</td>\n",
       "      <td>France</td>\n",
       "      <td>0</td>\n",
       "      <td>2</td>\n",
       "      <td>12</td>\n",
       "      <td>1</td>\n",
       "      <td>1</td>\n",
       "    </tr>\n",
       "    <tr>\n",
       "      <th>377</th>\n",
       "      <td>Harry Kane</td>\n",
       "      <td>Tottenham</td>\n",
       "      <td>23</td>\n",
       "      <td>CF</td>\n",
       "      <td>1</td>\n",
       "      <td>60.0</td>\n",
       "      <td>4161</td>\n",
       "      <td>12.5</td>\n",
       "      <td>35.10%</td>\n",
       "      <td>224</td>\n",
       "      <td>1.0</td>\n",
       "      <td>England</td>\n",
       "      <td>0</td>\n",
       "      <td>2</td>\n",
       "      <td>17</td>\n",
       "      <td>1</td>\n",
       "      <td>0</td>\n",
       "    </tr>\n",
       "  </tbody>\n",
       "</table>\n",
       "</div>"
      ],
      "text/plain": [
       "                name               club  age position  position_cat  \\\n",
       "0     Alexis Sanchez            Arsenal   28       LW             1   \n",
       "92       Eden Hazard            Chelsea   26       LW             1   \n",
       "240  Kevin De Bruyne    Manchester+City   26       AM             1   \n",
       "241    Sergio Aguero    Manchester+City   29       CF             1   \n",
       "263       Paul Pogba  Manchester+United   24       CM             2   \n",
       "377       Harry Kane          Tottenham   23       CF             1   \n",
       "\n",
       "     market_value  page_views  fpl_value fpl_sel  fpl_points  region  \\\n",
       "0            65.0        4329       12.0  17.10%         264     3.0   \n",
       "92           75.0        4220       10.5   2.30%         224     2.0   \n",
       "240          65.0        2252       10.0  17.50%         199     2.0   \n",
       "241          65.0        4046       11.5   9.70%         175     3.0   \n",
       "263          75.0        7435        8.0  19.50%         115     2.0   \n",
       "377          60.0        4161       12.5  35.10%         224     1.0   \n",
       "\n",
       "    nationality  new_foreign  age_cat  club_id  big_club  new_signing  \n",
       "0         Chile            0        4        1         1            0  \n",
       "92      Belgium            0        3        5         1            0  \n",
       "240     Belgium            0        3       11         1            0  \n",
       "241   Argentina            0        4       11         1            0  \n",
       "263      France            0        2       12         1            1  \n",
       "377     England            0        2       17         1            0  "
      ]
     },
     "execution_count": 13,
     "metadata": {},
     "output_type": "execute_result"
    }
   ],
   "source": [
    "data[data[\"market_value\"]>55]"
   ]
  },
  {
   "cell_type": "code",
   "execution_count": 14,
   "id": "e09c5e83",
   "metadata": {},
   "outputs": [],
   "source": [
    "input = data.drop(columns=[\"name\",\"club\",\"age\",\"nationality\",\"position\",\"club_id\",\"market_value\",\"fpl_sel\"])\n",
    "output= data[\"market_value\"]"
   ]
  },
  {
   "cell_type": "code",
   "execution_count": 15,
   "id": "bc89f0a4",
   "metadata": {},
   "outputs": [
    {
     "data": {
      "text/html": [
       "<div>\n",
       "<style scoped>\n",
       "    .dataframe tbody tr th:only-of-type {\n",
       "        vertical-align: middle;\n",
       "    }\n",
       "\n",
       "    .dataframe tbody tr th {\n",
       "        vertical-align: top;\n",
       "    }\n",
       "\n",
       "    .dataframe thead th {\n",
       "        text-align: right;\n",
       "    }\n",
       "</style>\n",
       "<table border=\"1\" class=\"dataframe\">\n",
       "  <thead>\n",
       "    <tr style=\"text-align: right;\">\n",
       "      <th></th>\n",
       "      <th>position_cat</th>\n",
       "      <th>page_views</th>\n",
       "      <th>fpl_value</th>\n",
       "      <th>fpl_points</th>\n",
       "      <th>region</th>\n",
       "      <th>new_foreign</th>\n",
       "      <th>age_cat</th>\n",
       "      <th>big_club</th>\n",
       "      <th>new_signing</th>\n",
       "    </tr>\n",
       "  </thead>\n",
       "  <tbody>\n",
       "    <tr>\n",
       "      <th>0</th>\n",
       "      <td>1</td>\n",
       "      <td>4329</td>\n",
       "      <td>12.0</td>\n",
       "      <td>264</td>\n",
       "      <td>3.0</td>\n",
       "      <td>0</td>\n",
       "      <td>4</td>\n",
       "      <td>1</td>\n",
       "      <td>0</td>\n",
       "    </tr>\n",
       "    <tr>\n",
       "      <th>1</th>\n",
       "      <td>1</td>\n",
       "      <td>4395</td>\n",
       "      <td>9.5</td>\n",
       "      <td>167</td>\n",
       "      <td>2.0</td>\n",
       "      <td>0</td>\n",
       "      <td>4</td>\n",
       "      <td>1</td>\n",
       "      <td>0</td>\n",
       "    </tr>\n",
       "    <tr>\n",
       "      <th>2</th>\n",
       "      <td>4</td>\n",
       "      <td>1529</td>\n",
       "      <td>5.5</td>\n",
       "      <td>134</td>\n",
       "      <td>2.0</td>\n",
       "      <td>0</td>\n",
       "      <td>6</td>\n",
       "      <td>1</td>\n",
       "      <td>0</td>\n",
       "    </tr>\n",
       "    <tr>\n",
       "      <th>3</th>\n",
       "      <td>1</td>\n",
       "      <td>2393</td>\n",
       "      <td>7.5</td>\n",
       "      <td>122</td>\n",
       "      <td>1.0</td>\n",
       "      <td>0</td>\n",
       "      <td>4</td>\n",
       "      <td>1</td>\n",
       "      <td>0</td>\n",
       "    </tr>\n",
       "    <tr>\n",
       "      <th>4</th>\n",
       "      <td>3</td>\n",
       "      <td>912</td>\n",
       "      <td>6.0</td>\n",
       "      <td>121</td>\n",
       "      <td>2.0</td>\n",
       "      <td>0</td>\n",
       "      <td>4</td>\n",
       "      <td>1</td>\n",
       "      <td>0</td>\n",
       "    </tr>\n",
       "    <tr>\n",
       "      <th>...</th>\n",
       "      <td>...</td>\n",
       "      <td>...</td>\n",
       "      <td>...</td>\n",
       "      <td>...</td>\n",
       "      <td>...</td>\n",
       "      <td>...</td>\n",
       "      <td>...</td>\n",
       "      <td>...</td>\n",
       "      <td>...</td>\n",
       "    </tr>\n",
       "    <tr>\n",
       "      <th>456</th>\n",
       "      <td>2</td>\n",
       "      <td>288</td>\n",
       "      <td>4.5</td>\n",
       "      <td>38</td>\n",
       "      <td>2.0</td>\n",
       "      <td>0</td>\n",
       "      <td>1</td>\n",
       "      <td>0</td>\n",
       "      <td>1</td>\n",
       "    </tr>\n",
       "    <tr>\n",
       "      <th>457</th>\n",
       "      <td>3</td>\n",
       "      <td>199</td>\n",
       "      <td>4.5</td>\n",
       "      <td>34</td>\n",
       "      <td>4.0</td>\n",
       "      <td>0</td>\n",
       "      <td>2</td>\n",
       "      <td>0</td>\n",
       "      <td>1</td>\n",
       "    </tr>\n",
       "    <tr>\n",
       "      <th>458</th>\n",
       "      <td>3</td>\n",
       "      <td>198</td>\n",
       "      <td>4.5</td>\n",
       "      <td>29</td>\n",
       "      <td>1.0</td>\n",
       "      <td>0</td>\n",
       "      <td>2</td>\n",
       "      <td>0</td>\n",
       "      <td>0</td>\n",
       "    </tr>\n",
       "    <tr>\n",
       "      <th>459</th>\n",
       "      <td>1</td>\n",
       "      <td>412</td>\n",
       "      <td>4.5</td>\n",
       "      <td>16</td>\n",
       "      <td>1.0</td>\n",
       "      <td>0</td>\n",
       "      <td>1</td>\n",
       "      <td>0</td>\n",
       "      <td>1</td>\n",
       "    </tr>\n",
       "    <tr>\n",
       "      <th>460</th>\n",
       "      <td>1</td>\n",
       "      <td>214</td>\n",
       "      <td>5.5</td>\n",
       "      <td>12</td>\n",
       "      <td>4.0</td>\n",
       "      <td>0</td>\n",
       "      <td>3</td>\n",
       "      <td>0</td>\n",
       "      <td>0</td>\n",
       "    </tr>\n",
       "  </tbody>\n",
       "</table>\n",
       "<p>460 rows × 9 columns</p>\n",
       "</div>"
      ],
      "text/plain": [
       "     position_cat  page_views  fpl_value  fpl_points  region  new_foreign  \\\n",
       "0               1        4329       12.0         264     3.0            0   \n",
       "1               1        4395        9.5         167     2.0            0   \n",
       "2               4        1529        5.5         134     2.0            0   \n",
       "3               1        2393        7.5         122     1.0            0   \n",
       "4               3         912        6.0         121     2.0            0   \n",
       "..            ...         ...        ...         ...     ...          ...   \n",
       "456             2         288        4.5          38     2.0            0   \n",
       "457             3         199        4.5          34     4.0            0   \n",
       "458             3         198        4.5          29     1.0            0   \n",
       "459             1         412        4.5          16     1.0            0   \n",
       "460             1         214        5.5          12     4.0            0   \n",
       "\n",
       "     age_cat  big_club  new_signing  \n",
       "0          4         1            0  \n",
       "1          4         1            0  \n",
       "2          6         1            0  \n",
       "3          4         1            0  \n",
       "4          4         1            0  \n",
       "..       ...       ...          ...  \n",
       "456        1         0            1  \n",
       "457        2         0            1  \n",
       "458        2         0            0  \n",
       "459        1         0            1  \n",
       "460        3         0            0  \n",
       "\n",
       "[460 rows x 9 columns]"
      ]
     },
     "execution_count": 15,
     "metadata": {},
     "output_type": "execute_result"
    }
   ],
   "source": [
    "input"
   ]
  },
  {
   "cell_type": "code",
   "execution_count": 16,
   "id": "af34083c",
   "metadata": {},
   "outputs": [
    {
     "data": {
      "text/plain": [
       "0      65.0\n",
       "1      50.0\n",
       "2       7.0\n",
       "3      20.0\n",
       "4      22.0\n",
       "       ... \n",
       "456     5.0\n",
       "457     7.0\n",
       "458     4.5\n",
       "459     1.0\n",
       "460    10.0\n",
       "Name: market_value, Length: 460, dtype: float64"
      ]
     },
     "execution_count": 16,
     "metadata": {},
     "output_type": "execute_result"
    }
   ],
   "source": [
    "output"
   ]
  },
  {
   "cell_type": "code",
   "execution_count": 17,
   "id": "ba1f736c",
   "metadata": {},
   "outputs": [
    {
     "data": {
      "text/plain": [
       "<AxesSubplot:xlabel='market_value', ylabel='count'>"
      ]
     },
     "execution_count": 17,
     "metadata": {},
     "output_type": "execute_result"
    },
    {
     "data": {
      "image/png": "[encoded data removed]",
      "text/plain": [
       "<Figure size 1800x720 with 1 Axes>"
      ]
     },
     "metadata": {
      "needs_background": "light"
     },
     "output_type": "display_data"
    }
   ],
   "source": [
    "fig, ax = plt.subplots(figsize=(25, 10))\n",
    "sns.countplot(x=\"market_value\",hue=\"new_signing\",data=data)"
   ]
  },
  {
   "cell_type": "code",
   "execution_count": 18,
   "id": "f454d879",
   "metadata": {},
   "outputs": [
    {
     "data": {
      "text/plain": [
       "<AxesSubplot:xlabel='region', ylabel='count'>"
      ]
     },
     "execution_count": 18,
     "metadata": {},
     "output_type": "execute_result"
    },
    {
     "data": {
      "image/png": "[encoded data removed]",
      "text/plain": [
       "<Figure size 720x360 with 1 Axes>"
      ]
     },
     "metadata": {
      "needs_background": "light"
     },
     "output_type": "display_data"
    }
   ],
   "source": [
    "fig, ax = plt.subplots(figsize=(10, 5))\n",
    "sns.countplot(x=\"region\",data=data)"
   ]
  },
  {
   "cell_type": "code",
   "execution_count": 19,
   "id": "53e6f389",
   "metadata": {},
   "outputs": [
    {
     "data": {
      "text/plain": [
       "<AxesSubplot:xlabel='age_cat', ylabel='count'>"
      ]
     },
     "execution_count": 19,
     "metadata": {},
     "output_type": "execute_result"
    },
    {
     "data": {
      "image/png": "[encoded data removed]",
      "text/plain": [
       "<Figure size 720x360 with 1 Axes>"
      ]
     },
     "metadata": {
      "needs_background": "light"
     },
     "output_type": "display_data"
    }
   ],
   "source": [
    "fig, ax = plt.subplots(figsize=(10, 5))\n",
    "sns.countplot(x=\"age_cat\",data=data)"
   ]
  },
  {
   "cell_type": "code",
   "execution_count": 20,
   "id": "608eac0d",
   "metadata": {},
   "outputs": [
    {
     "data": {
      "text/plain": [
       "<AxesSubplot:xlabel='age', ylabel='count'>"
      ]
     },
     "execution_count": 20,
     "metadata": {},
     "output_type": "execute_result"
    },
    {
     "data": {
      "image/png": "[encoded data removed]",
      "text/plain": [
       "<Figure size 720x360 with 1 Axes>"
      ]
     },
     "metadata": {
      "needs_background": "light"
     },
     "output_type": "display_data"
    }
   ],
   "source": [
    " fig, ax = plt.subplots(figsize=(10, 5))\n",
    "sns.countplot(x=\"age\",data=data)"
   ]
  },
  {
   "cell_type": "code",
   "execution_count": 21,
   "id": "187260f8",
   "metadata": {},
   "outputs": [
    {
     "data": {
      "text/plain": [
       "<AxesSubplot:>"
      ]
     },
     "execution_count": 21,
     "metadata": {},
     "output_type": "execute_result"
    },
    {
     "data": {
      "image/png": "[encoded data removed]",
      "text/plain": [
       "<Figure size 432x288 with 1 Axes>"
      ]
     },
     "metadata": {
      "needs_background": "light"
     },
     "output_type": "display_data"
    }
   ],
   "source": [
    "sns.boxplot(data=data[\"fpl_points\"])"
   ]
  },
  {
   "cell_type": "code",
   "execution_count": 22,
   "id": "dbd34009",
   "metadata": {},
   "outputs": [
    {
     "data": {
      "text/plain": [
       "<AxesSubplot:>"
      ]
     },
     "execution_count": 22,
     "metadata": {},
     "output_type": "execute_result"
    },
    {
     "data": {
      "image/png": "[encoded data removed]",
      "text/plain": [
       "<Figure size 432x288 with 1 Axes>"
      ]
     },
     "metadata": {
      "needs_background": "light"
     },
     "output_type": "display_data"
    }
   ],
   "source": [
    "sns.boxplot(data=data[\"page_views\"])"
   ]
  },
  {
   "cell_type": "markdown",
   "id": "6a075329",
   "metadata": {},
   "source": [
    "# Preprocessing: Shuffle the data before spliting for training it.  "
   ]
  },
  {
   "cell_type": "code",
   "execution_count": 23,
   "id": "6e2358d0",
   "metadata": {},
   "outputs": [],
   "source": [
    "from sklearn.utils import shuffle"
   ]
  },
  {
   "cell_type": "code",
   "execution_count": 24,
   "id": "a56fdc09",
   "metadata": {},
   "outputs": [],
   "source": [
    "data=pd.read_csv(\"C:/Users/User/Downloads/dataset.csv\")"
   ]
  },
  {
   "cell_type": "code",
   "execution_count": 25,
   "id": "9d6273b5",
   "metadata": {},
   "outputs": [],
   "source": [
    "data=data.dropna()"
   ]
  },
  {
   "cell_type": "code",
   "execution_count": 26,
   "id": "e968609c",
   "metadata": {},
   "outputs": [],
   "source": [
    "data_train=shuffle(data)"
   ]
  },
  {
   "cell_type": "code",
   "execution_count": 27,
   "id": "98ee4541",
   "metadata": {},
   "outputs": [
    {
     "data": {
      "text/html": [
       "<div>\n",
       "<style scoped>\n",
       "    .dataframe tbody tr th:only-of-type {\n",
       "        vertical-align: middle;\n",
       "    }\n",
       "\n",
       "    .dataframe tbody tr th {\n",
       "        vertical-align: top;\n",
       "    }\n",
       "\n",
       "    .dataframe thead th {\n",
       "        text-align: right;\n",
       "    }\n",
       "</style>\n",
       "<table border=\"1\" class=\"dataframe\">\n",
       "  <thead>\n",
       "    <tr style=\"text-align: right;\">\n",
       "      <th></th>\n",
       "      <th>name</th>\n",
       "      <th>club</th>\n",
       "      <th>age</th>\n",
       "      <th>position</th>\n",
       "      <th>position_cat</th>\n",
       "      <th>market_value</th>\n",
       "      <th>page_views</th>\n",
       "      <th>fpl_value</th>\n",
       "      <th>fpl_sel</th>\n",
       "      <th>fpl_points</th>\n",
       "      <th>region</th>\n",
       "      <th>nationality</th>\n",
       "      <th>new_foreign</th>\n",
       "      <th>age_cat</th>\n",
       "      <th>club_id</th>\n",
       "      <th>big_club</th>\n",
       "      <th>new_signing</th>\n",
       "    </tr>\n",
       "  </thead>\n",
       "  <tbody>\n",
       "    <tr>\n",
       "      <th>207</th>\n",
       "      <td>Leonardo Ulloa</td>\n",
       "      <td>Leicester+City</td>\n",
       "      <td>30</td>\n",
       "      <td>CF</td>\n",
       "      <td>1</td>\n",
       "      <td>6.0</td>\n",
       "      <td>472</td>\n",
       "      <td>5.0</td>\n",
       "      <td>0.20%</td>\n",
       "      <td>24</td>\n",
       "      <td>2.0</td>\n",
       "      <td>Argentina</td>\n",
       "      <td>0</td>\n",
       "      <td>4</td>\n",
       "      <td>9</td>\n",
       "      <td>0</td>\n",
       "      <td>0</td>\n",
       "    </tr>\n",
       "    <tr>\n",
       "      <th>387</th>\n",
       "      <td>Mousa Dembele</td>\n",
       "      <td>Tottenham</td>\n",
       "      <td>30</td>\n",
       "      <td>CM</td>\n",
       "      <td>2</td>\n",
       "      <td>18.0</td>\n",
       "      <td>1161</td>\n",
       "      <td>5.0</td>\n",
       "      <td>1.80%</td>\n",
       "      <td>76</td>\n",
       "      <td>2.0</td>\n",
       "      <td>Belgium</td>\n",
       "      <td>0</td>\n",
       "      <td>4</td>\n",
       "      <td>17</td>\n",
       "      <td>1</td>\n",
       "      <td>0</td>\n",
       "    </tr>\n",
       "    <tr>\n",
       "      <th>155</th>\n",
       "      <td>Ademola Lookman</td>\n",
       "      <td>Everton</td>\n",
       "      <td>19</td>\n",
       "      <td>LW</td>\n",
       "      <td>1</td>\n",
       "      <td>5.0</td>\n",
       "      <td>1387</td>\n",
       "      <td>5.5</td>\n",
       "      <td>0.30%</td>\n",
       "      <td>16</td>\n",
       "      <td>1.0</td>\n",
       "      <td>England</td>\n",
       "      <td>0</td>\n",
       "      <td>1</td>\n",
       "      <td>7</td>\n",
       "      <td>0</td>\n",
       "      <td>0</td>\n",
       "    </tr>\n",
       "    <tr>\n",
       "      <th>427</th>\n",
       "      <td>James Morrison</td>\n",
       "      <td>West+Brom</td>\n",
       "      <td>31</td>\n",
       "      <td>CM</td>\n",
       "      <td>2</td>\n",
       "      <td>5.0</td>\n",
       "      <td>238</td>\n",
       "      <td>5.5</td>\n",
       "      <td>0.00%</td>\n",
       "      <td>84</td>\n",
       "      <td>2.0</td>\n",
       "      <td>Scotland</td>\n",
       "      <td>0</td>\n",
       "      <td>4</td>\n",
       "      <td>19</td>\n",
       "      <td>0</td>\n",
       "      <td>0</td>\n",
       "    </tr>\n",
       "    <tr>\n",
       "      <th>12</th>\n",
       "      <td>Jack Wilshere</td>\n",
       "      <td>Arsenal</td>\n",
       "      <td>25</td>\n",
       "      <td>CM</td>\n",
       "      <td>2</td>\n",
       "      <td>18.0</td>\n",
       "      <td>1759</td>\n",
       "      <td>5.5</td>\n",
       "      <td>0.00%</td>\n",
       "      <td>61</td>\n",
       "      <td>1.0</td>\n",
       "      <td>England</td>\n",
       "      <td>0</td>\n",
       "      <td>3</td>\n",
       "      <td>1</td>\n",
       "      <td>1</td>\n",
       "      <td>0</td>\n",
       "    </tr>\n",
       "  </tbody>\n",
       "</table>\n",
       "</div>"
      ],
      "text/plain": [
       "                name            club  age position  position_cat  \\\n",
       "207   Leonardo Ulloa  Leicester+City   30       CF             1   \n",
       "387    Mousa Dembele       Tottenham   30       CM             2   \n",
       "155  Ademola Lookman         Everton   19       LW             1   \n",
       "427   James Morrison       West+Brom   31       CM             2   \n",
       "12     Jack Wilshere         Arsenal   25       CM             2   \n",
       "\n",
       "     market_value  page_views  fpl_value fpl_sel  fpl_points  region  \\\n",
       "207           6.0         472        5.0   0.20%          24     2.0   \n",
       "387          18.0        1161        5.0   1.80%          76     2.0   \n",
       "155           5.0        1387        5.5   0.30%          16     1.0   \n",
       "427           5.0         238        5.5   0.00%          84     2.0   \n",
       "12           18.0        1759        5.5   0.00%          61     1.0   \n",
       "\n",
       "    nationality  new_foreign  age_cat  club_id  big_club  new_signing  \n",
       "207   Argentina            0        4        9         0            0  \n",
       "387     Belgium            0        4       17         1            0  \n",
       "155     England            0        1        7         0            0  \n",
       "427    Scotland            0        4       19         0            0  \n",
       "12      England            0        3        1         1            0  "
      ]
     },
     "execution_count": 27,
     "metadata": {},
     "output_type": "execute_result"
    }
   ],
   "source": [
    "data_train.head()"
   ]
  },
  {
   "cell_type": "markdown",
   "id": "774546f8",
   "metadata": {},
   "source": [
    "# Define the Input and Output sets"
   ]
  },
  {
   "cell_type": "code",
   "execution_count": 28,
   "id": "c30d0556",
   "metadata": {},
   "outputs": [],
   "source": [
    "X = data.drop(columns=[\"name\",\"club\",\"age\",\"nationality\",\"position\",\"club_id\",\"market_value\",\"fpl_sel\"])\n",
    "y = data[\"market_value\"]"
   ]
  },
  {
   "cell_type": "code",
   "execution_count": 29,
   "id": "9013b86a",
   "metadata": {},
   "outputs": [
    {
     "data": {
      "text/plain": [
       "position_cat      int64\n",
       "page_views        int64\n",
       "fpl_value       float64\n",
       "fpl_points        int64\n",
       "region          float64\n",
       "new_foreign       int64\n",
       "age_cat           int64\n",
       "big_club          int64\n",
       "new_signing       int64\n",
       "dtype: object"
      ]
     },
     "execution_count": 29,
     "metadata": {},
     "output_type": "execute_result"
    }
   ],
   "source": [
    "X.dtypes"
   ]
  },
  {
   "cell_type": "markdown",
   "id": "3b788f80",
   "metadata": {},
   "source": [
    "# MODELING "
   ]
  },
  {
   "cell_type": "code",
   "execution_count": 30,
   "id": "38a22da4",
   "metadata": {},
   "outputs": [],
   "source": [
    "from sklearn.model_selection import train_test_split\n",
    "from sklearn import preprocessing\n",
    "from sklearn import linear_model\n",
    "from sklearn.metrics import r2_score,mean_squared_error\n",
    "from sklearn.model_selection import GridSearchCV\n",
    "from sklearn.svm import SVR\n",
    "from sklearn.tree import DecisionTreeRegressor\n",
    "from sklearn.ensemble import RandomForestRegressor\n",
    "from sklearn.ensemble import ExtraTreesRegressor"
   ]
  },
  {
   "cell_type": "markdown",
   "id": "82cca4c8",
   "metadata": {},
   "source": [
    "We modeled with and without standardization to evaluate when the model performs better. "
   ]
  },
  {
   "cell_type": "code",
   "execution_count": 31,
   "id": "b8276590",
   "metadata": {},
   "outputs": [],
   "source": [
    "reporting={}"
   ]
  },
  {
   "cell_type": "code",
   "execution_count": 32,
   "id": "ab1d4cbf",
   "metadata": {},
   "outputs": [],
   "source": [
    "X_train,X_test,y_train,y_test=train_test_split(X,y,test_size=0.3)"
   ]
  },
  {
   "cell_type": "code",
   "execution_count": 33,
   "id": "cdc97ab2",
   "metadata": {},
   "outputs": [
    {
     "data": {
      "text/html": [
       "<div>\n",
       "<style scoped>\n",
       "    .dataframe tbody tr th:only-of-type {\n",
       "        vertical-align: middle;\n",
       "    }\n",
       "\n",
       "    .dataframe tbody tr th {\n",
       "        vertical-align: top;\n",
       "    }\n",
       "\n",
       "    .dataframe thead th {\n",
       "        text-align: right;\n",
       "    }\n",
       "</style>\n",
       "<table border=\"1\" class=\"dataframe\">\n",
       "  <thead>\n",
       "    <tr style=\"text-align: right;\">\n",
       "      <th></th>\n",
       "      <th>position_cat</th>\n",
       "      <th>page_views</th>\n",
       "      <th>fpl_value</th>\n",
       "      <th>fpl_points</th>\n",
       "      <th>region</th>\n",
       "      <th>new_foreign</th>\n",
       "      <th>age_cat</th>\n",
       "      <th>big_club</th>\n",
       "      <th>new_signing</th>\n",
       "    </tr>\n",
       "  </thead>\n",
       "  <tbody>\n",
       "    <tr>\n",
       "      <th>457</th>\n",
       "      <td>3</td>\n",
       "      <td>199</td>\n",
       "      <td>4.5</td>\n",
       "      <td>34</td>\n",
       "      <td>4.0</td>\n",
       "      <td>0</td>\n",
       "      <td>2</td>\n",
       "      <td>0</td>\n",
       "      <td>1</td>\n",
       "    </tr>\n",
       "    <tr>\n",
       "      <th>69</th>\n",
       "      <td>1</td>\n",
       "      <td>114</td>\n",
       "      <td>5.0</td>\n",
       "      <td>0</td>\n",
       "      <td>2.0</td>\n",
       "      <td>0</td>\n",
       "      <td>3</td>\n",
       "      <td>0</td>\n",
       "      <td>0</td>\n",
       "    </tr>\n",
       "    <tr>\n",
       "      <th>265</th>\n",
       "      <td>1</td>\n",
       "      <td>2280</td>\n",
       "      <td>7.0</td>\n",
       "      <td>102</td>\n",
       "      <td>2.0</td>\n",
       "      <td>0</td>\n",
       "      <td>4</td>\n",
       "      <td>1</td>\n",
       "      <td>0</td>\n",
       "    </tr>\n",
       "    <tr>\n",
       "      <th>43</th>\n",
       "      <td>2</td>\n",
       "      <td>154</td>\n",
       "      <td>4.5</td>\n",
       "      <td>44</td>\n",
       "      <td>1.0</td>\n",
       "      <td>0</td>\n",
       "      <td>4</td>\n",
       "      <td>0</td>\n",
       "      <td>0</td>\n",
       "    </tr>\n",
       "    <tr>\n",
       "      <th>406</th>\n",
       "      <td>2</td>\n",
       "      <td>237</td>\n",
       "      <td>4.5</td>\n",
       "      <td>48</td>\n",
       "      <td>2.0</td>\n",
       "      <td>0</td>\n",
       "      <td>5</td>\n",
       "      <td>0</td>\n",
       "      <td>0</td>\n",
       "    </tr>\n",
       "    <tr>\n",
       "      <th>...</th>\n",
       "      <td>...</td>\n",
       "      <td>...</td>\n",
       "      <td>...</td>\n",
       "      <td>...</td>\n",
       "      <td>...</td>\n",
       "      <td>...</td>\n",
       "      <td>...</td>\n",
       "      <td>...</td>\n",
       "      <td>...</td>\n",
       "    </tr>\n",
       "    <tr>\n",
       "      <th>255</th>\n",
       "      <td>2</td>\n",
       "      <td>1586</td>\n",
       "      <td>5.5</td>\n",
       "      <td>41</td>\n",
       "      <td>2.0</td>\n",
       "      <td>0</td>\n",
       "      <td>3</td>\n",
       "      <td>1</td>\n",
       "      <td>1</td>\n",
       "    </tr>\n",
       "    <tr>\n",
       "      <th>336</th>\n",
       "      <td>1</td>\n",
       "      <td>2656</td>\n",
       "      <td>5.0</td>\n",
       "      <td>79</td>\n",
       "      <td>1.0</td>\n",
       "      <td>0</td>\n",
       "      <td>6</td>\n",
       "      <td>0</td>\n",
       "      <td>0</td>\n",
       "    </tr>\n",
       "    <tr>\n",
       "      <th>295</th>\n",
       "      <td>2</td>\n",
       "      <td>566</td>\n",
       "      <td>6.0</td>\n",
       "      <td>0</td>\n",
       "      <td>2.0</td>\n",
       "      <td>0</td>\n",
       "      <td>3</td>\n",
       "      <td>0</td>\n",
       "      <td>0</td>\n",
       "    </tr>\n",
       "    <tr>\n",
       "      <th>267</th>\n",
       "      <td>2</td>\n",
       "      <td>1603</td>\n",
       "      <td>5.5</td>\n",
       "      <td>97</td>\n",
       "      <td>2.0</td>\n",
       "      <td>0</td>\n",
       "      <td>3</td>\n",
       "      <td>1</td>\n",
       "      <td>0</td>\n",
       "    </tr>\n",
       "    <tr>\n",
       "      <th>41</th>\n",
       "      <td>3</td>\n",
       "      <td>1274</td>\n",
       "      <td>5.0</td>\n",
       "      <td>55</td>\n",
       "      <td>2.0</td>\n",
       "      <td>0</td>\n",
       "      <td>2</td>\n",
       "      <td>0</td>\n",
       "      <td>0</td>\n",
       "    </tr>\n",
       "  </tbody>\n",
       "</table>\n",
       "<p>322 rows × 9 columns</p>\n",
       "</div>"
      ],
      "text/plain": [
       "     position_cat  page_views  fpl_value  fpl_points  region  new_foreign  \\\n",
       "457             3         199        4.5          34     4.0            0   \n",
       "69              1         114        5.0           0     2.0            0   \n",
       "265             1        2280        7.0         102     2.0            0   \n",
       "43              2         154        4.5          44     1.0            0   \n",
       "406             2         237        4.5          48     2.0            0   \n",
       "..            ...         ...        ...         ...     ...          ...   \n",
       "255             2        1586        5.5          41     2.0            0   \n",
       "336             1        2656        5.0          79     1.0            0   \n",
       "295             2         566        6.0           0     2.0            0   \n",
       "267             2        1603        5.5          97     2.0            0   \n",
       "41              3        1274        5.0          55     2.0            0   \n",
       "\n",
       "     age_cat  big_club  new_signing  \n",
       "457        2         0            1  \n",
       "69         3         0            0  \n",
       "265        4         1            0  \n",
       "43         4         0            0  \n",
       "406        5         0            0  \n",
       "..       ...       ...          ...  \n",
       "255        3         1            1  \n",
       "336        6         0            0  \n",
       "295        3         0            0  \n",
       "267        3         1            0  \n",
       "41         2         0            0  \n",
       "\n",
       "[322 rows x 9 columns]"
      ]
     },
     "execution_count": 33,
     "metadata": {},
     "output_type": "execute_result"
    }
   ],
   "source": [
    "X_train"
   ]
  },
  {
   "cell_type": "code",
   "execution_count": 34,
   "id": "ece56ec2",
   "metadata": {},
   "outputs": [],
   "source": [
    "Xscaled= preprocessing.StandardScaler().fit(X).transform(X)"
   ]
  },
  {
   "cell_type": "code",
   "execution_count": 35,
   "id": "d762faf5",
   "metadata": {},
   "outputs": [
    {
     "data": {
      "text/plain": [
       "array([[-1.18433384,  3.82689912,  4.86707053, ...,  0.61890443,\n",
       "         1.51185789, -0.41289643],\n",
       "       [-1.18433384,  3.89777389,  3.01033438, ...,  0.61890443,\n",
       "         1.51185789, -0.41289643],\n",
       "       [ 1.82004245,  0.82009066,  0.03955655, ...,  2.18316838,\n",
       "         1.51185789, -0.41289643],\n",
       "       ...,\n",
       "       [ 0.81858368, -0.60921721, -0.7031379 , ..., -0.94535951,\n",
       "        -0.66143783, -0.41289643],\n",
       "       [-1.18433384, -0.37941114, -0.7031379 , ..., -1.72749149,\n",
       "        -0.66143783,  2.42191487],\n",
       "       [-1.18433384, -0.59203545,  0.03955655, ..., -0.16322754,\n",
       "        -0.66143783, -0.41289643]])"
      ]
     },
     "execution_count": 35,
     "metadata": {},
     "output_type": "execute_result"
    }
   ],
   "source": [
    "Xscaled"
   ]
  },
  {
   "cell_type": "code",
   "execution_count": 36,
   "id": "5e5d6a59",
   "metadata": {},
   "outputs": [
    {
     "data": {
      "text/html": [
       "<div>\n",
       "<style scoped>\n",
       "    .dataframe tbody tr th:only-of-type {\n",
       "        vertical-align: middle;\n",
       "    }\n",
       "\n",
       "    .dataframe tbody tr th {\n",
       "        vertical-align: top;\n",
       "    }\n",
       "\n",
       "    .dataframe thead th {\n",
       "        text-align: right;\n",
       "    }\n",
       "</style>\n",
       "<table border=\"1\" class=\"dataframe\">\n",
       "  <thead>\n",
       "    <tr style=\"text-align: right;\">\n",
       "      <th></th>\n",
       "      <th>position_cat</th>\n",
       "      <th>page_views</th>\n",
       "      <th>fpl_value</th>\n",
       "      <th>fpl_points</th>\n",
       "      <th>region</th>\n",
       "      <th>new_foreign</th>\n",
       "      <th>age_cat</th>\n",
       "      <th>big_club</th>\n",
       "      <th>new_signing</th>\n",
       "    </tr>\n",
       "  </thead>\n",
       "  <tbody>\n",
       "    <tr>\n",
       "      <th>283</th>\n",
       "      <td>4</td>\n",
       "      <td>395</td>\n",
       "      <td>4.0</td>\n",
       "      <td>6</td>\n",
       "      <td>2.0</td>\n",
       "      <td>0</td>\n",
       "      <td>1</td>\n",
       "      <td>1</td>\n",
       "      <td>0</td>\n",
       "    </tr>\n",
       "    <tr>\n",
       "      <th>405</th>\n",
       "      <td>3</td>\n",
       "      <td>242</td>\n",
       "      <td>5.0</td>\n",
       "      <td>50</td>\n",
       "      <td>2.0</td>\n",
       "      <td>0</td>\n",
       "      <td>3</td>\n",
       "      <td>0</td>\n",
       "      <td>1</td>\n",
       "    </tr>\n",
       "    <tr>\n",
       "      <th>190</th>\n",
       "      <td>1</td>\n",
       "      <td>1753</td>\n",
       "      <td>8.5</td>\n",
       "      <td>120</td>\n",
       "      <td>4.0</td>\n",
       "      <td>0</td>\n",
       "      <td>3</td>\n",
       "      <td>0</td>\n",
       "      <td>0</td>\n",
       "    </tr>\n",
       "    <tr>\n",
       "      <th>253</th>\n",
       "      <td>3</td>\n",
       "      <td>935</td>\n",
       "      <td>6.0</td>\n",
       "      <td>57</td>\n",
       "      <td>2.0</td>\n",
       "      <td>0</td>\n",
       "      <td>4</td>\n",
       "      <td>1</td>\n",
       "      <td>0</td>\n",
       "    </tr>\n",
       "    <tr>\n",
       "      <th>145</th>\n",
       "      <td>4</td>\n",
       "      <td>623</td>\n",
       "      <td>4.5</td>\n",
       "      <td>68</td>\n",
       "      <td>2.0</td>\n",
       "      <td>0</td>\n",
       "      <td>6</td>\n",
       "      <td>0</td>\n",
       "      <td>1</td>\n",
       "    </tr>\n",
       "    <tr>\n",
       "      <th>...</th>\n",
       "      <td>...</td>\n",
       "      <td>...</td>\n",
       "      <td>...</td>\n",
       "      <td>...</td>\n",
       "      <td>...</td>\n",
       "      <td>...</td>\n",
       "      <td>...</td>\n",
       "      <td>...</td>\n",
       "      <td>...</td>\n",
       "    </tr>\n",
       "    <tr>\n",
       "      <th>138</th>\n",
       "      <td>3</td>\n",
       "      <td>1362</td>\n",
       "      <td>5.5</td>\n",
       "      <td>113</td>\n",
       "      <td>1.0</td>\n",
       "      <td>0</td>\n",
       "      <td>2</td>\n",
       "      <td>0</td>\n",
       "      <td>0</td>\n",
       "    </tr>\n",
       "    <tr>\n",
       "      <th>291</th>\n",
       "      <td>3</td>\n",
       "      <td>265</td>\n",
       "      <td>4.0</td>\n",
       "      <td>0</td>\n",
       "      <td>2.0</td>\n",
       "      <td>0</td>\n",
       "      <td>3</td>\n",
       "      <td>0</td>\n",
       "      <td>0</td>\n",
       "    </tr>\n",
       "    <tr>\n",
       "      <th>30</th>\n",
       "      <td>3</td>\n",
       "      <td>185</td>\n",
       "      <td>5.0</td>\n",
       "      <td>134</td>\n",
       "      <td>1.0</td>\n",
       "      <td>0</td>\n",
       "      <td>4</td>\n",
       "      <td>0</td>\n",
       "      <td>0</td>\n",
       "    </tr>\n",
       "    <tr>\n",
       "      <th>168</th>\n",
       "      <td>3</td>\n",
       "      <td>83</td>\n",
       "      <td>4.0</td>\n",
       "      <td>0</td>\n",
       "      <td>2.0</td>\n",
       "      <td>0</td>\n",
       "      <td>1</td>\n",
       "      <td>0</td>\n",
       "      <td>0</td>\n",
       "    </tr>\n",
       "    <tr>\n",
       "      <th>381</th>\n",
       "      <td>3</td>\n",
       "      <td>511</td>\n",
       "      <td>6.0</td>\n",
       "      <td>126</td>\n",
       "      <td>2.0</td>\n",
       "      <td>0</td>\n",
       "      <td>4</td>\n",
       "      <td>1</td>\n",
       "      <td>0</td>\n",
       "    </tr>\n",
       "  </tbody>\n",
       "</table>\n",
       "<p>138 rows × 9 columns</p>\n",
       "</div>"
      ],
      "text/plain": [
       "     position_cat  page_views  fpl_value  fpl_points  region  new_foreign  \\\n",
       "283             4         395        4.0           6     2.0            0   \n",
       "405             3         242        5.0          50     2.0            0   \n",
       "190             1        1753        8.5         120     4.0            0   \n",
       "253             3         935        6.0          57     2.0            0   \n",
       "145             4         623        4.5          68     2.0            0   \n",
       "..            ...         ...        ...         ...     ...          ...   \n",
       "138             3        1362        5.5         113     1.0            0   \n",
       "291             3         265        4.0           0     2.0            0   \n",
       "30              3         185        5.0         134     1.0            0   \n",
       "168             3          83        4.0           0     2.0            0   \n",
       "381             3         511        6.0         126     2.0            0   \n",
       "\n",
       "     age_cat  big_club  new_signing  \n",
       "283        1         1            0  \n",
       "405        3         0            1  \n",
       "190        3         0            0  \n",
       "253        4         1            0  \n",
       "145        6         0            1  \n",
       "..       ...       ...          ...  \n",
       "138        2         0            0  \n",
       "291        3         0            0  \n",
       "30         4         0            0  \n",
       "168        1         0            0  \n",
       "381        4         1            0  \n",
       "\n",
       "[138 rows x 9 columns]"
      ]
     },
     "execution_count": 36,
     "metadata": {},
     "output_type": "execute_result"
    }
   ],
   "source": [
    "X_test"
   ]
  },
  {
   "cell_type": "code",
   "execution_count": 37,
   "id": "92f6ff10",
   "metadata": {},
   "outputs": [],
   "source": [
    "X_trainscaled,X_testscaled,y_trainscaled,y_testscaled=train_test_split(Xscaled,y,test_size=0.3)"
   ]
  },
  {
   "cell_type": "markdown",
   "id": "97fdc7ac",
   "metadata": {},
   "source": [
    "# Linear Regression "
   ]
  },
  {
   "cell_type": "markdown",
   "id": "c72530f8",
   "metadata": {},
   "source": [
    "Without scaling:"
   ]
  },
  {
   "cell_type": "code",
   "execution_count": 38,
   "id": "86ace11e",
   "metadata": {},
   "outputs": [],
   "source": [
    "regr = linear_model.LinearRegression()\n",
    "fitregr = regr.fit(X_train, y_train)\n",
    "predregrtrain = fitregr.predict(X_train)\n",
    "predregrtest = fitregr.predict(X_test)"
   ]
  },
  {
   "cell_type": "code",
   "execution_count": 39,
   "id": "6042c56c",
   "metadata": {},
   "outputs": [
    {
     "name": "stdout",
     "output_type": "stream",
     "text": [
      "The equation of this Linear Regression has format : y= coefficient*Features + intercept\n",
      "Linear model intercept: -20.39091948528798 and the coefficients are: [ 1.28138278e+00  2.33386087e-03  4.48967726e+00  4.17919708e-02\n",
      "  6.17508686e-01  3.92405790e+00 -1.14662411e+00  7.21482269e+00\n",
      "  1.74257826e+00]\n"
     ]
    }
   ],
   "source": [
    "print('The equation of this Linear Regression has format : y= coefficient*Features + intercept')\n",
    "print('Linear model intercept: {} and the coefficients are: {}'\n",
    "     .format(fitregr.intercept_,fitregr.coef_))"
   ]
  },
  {
   "cell_type": "markdown",
   "id": "7c939fa1",
   "metadata": {},
   "source": [
    "After fitting the model, we printed the score between predictions and the test targets."
   ]
  },
  {
   "cell_type": "code",
   "execution_count": 40,
   "id": "53472c40",
   "metadata": {},
   "outputs": [
    {
     "name": "stdout",
     "output_type": "stream",
     "text": [
      "Linear model, R2 train score is : 0.7780053198359337 and the train root mean square Without scaling is: 5.812870493740399\n",
      "Linear model, R2 test score is : 0.7255970259086422 and the test root mean square without scaling is: 6.309189549931181\n"
     ]
    }
   ],
   "source": [
    "train_set_rmse = (np.sqrt(mean_squared_error(predregrtrain,y_train )))\n",
    "train_set_r2 = r2_score(y_train, predregrtrain)\n",
    "print('Linear model, R2 train score is : {} and the train root mean square Without scaling is: {}'\n",
    "     .format(train_set_r2,train_set_rmse))\n",
    "\n",
    "test_set_rmse = (np.sqrt(mean_squared_error(predregrtest,y_test )))\n",
    "test_set_r2 = r2_score(y_test, predregrtest)\n",
    "print('Linear model, R2 test score is : {} and the test root mean square without scaling is: {}'\n",
    "     .format(test_set_r2,test_set_rmse))"
   ]
  },
  {
   "cell_type": "code",
   "execution_count": 41,
   "id": "cc9e807e",
   "metadata": {},
   "outputs": [],
   "source": [
    "reporting['Multiple Linear regression']=test_set_r2"
   ]
  },
  {
   "cell_type": "markdown",
   "id": "0266702f",
   "metadata": {},
   "source": [
    "With scaling: "
   ]
  },
  {
   "cell_type": "code",
   "execution_count": 42,
   "id": "226b13a3",
   "metadata": {},
   "outputs": [],
   "source": [
    "regr = linear_model.LinearRegression()\n",
    "fitregr=regr.fit(X_trainscaled, y_trainscaled)\n",
    "predregrtrain=fitregr.predict(X_trainscaled)\n",
    "predregrtest=fitregr.predict(X_testscaled)"
   ]
  },
  {
   "cell_type": "code",
   "execution_count": 43,
   "id": "685be942",
   "metadata": {},
   "outputs": [
    {
     "name": "stdout",
     "output_type": "stream",
     "text": [
      "The equation of this Linear Regression has format : y= coefficient*Features + intercept\n",
      "Linear model intercept: 11.004254899271894 and the coefficients are: [ 1.1852254   2.77820042  5.15097924  2.47512443  0.79866624  0.91119518\n",
      " -1.06134242  2.82263514  0.67318174]\n"
     ]
    }
   ],
   "source": [
    "print('The equation of this Linear Regression has format : y= coefficient*Features + intercept')\n",
    "print('Linear model intercept: {} and the coefficients are: {}'\n",
    "     .format(fitregr.intercept_,fitregr.coef_))"
   ]
  },
  {
   "cell_type": "markdown",
   "id": "e20dbad3",
   "metadata": {},
   "source": [
    "After fitting the model, we printed the score between predictions and the test targets."
   ]
  },
  {
   "cell_type": "code",
   "execution_count": 44,
   "id": "af1808d7",
   "metadata": {},
   "outputs": [
    {
     "name": "stdout",
     "output_type": "stream",
     "text": [
      "Linear model, R2 train score is : 0.766320869964474 and the train root mean square Without scaling is: 6.061950463547201\n",
      "Linear model, R2 test score is : 0.7668798058458753 and the test root mean square without scaling is: 5.5356567718115235\n"
     ]
    }
   ],
   "source": [
    "train_set_rmse = (np.sqrt(mean_squared_error(predregrtrain,y_trainscaled )))\n",
    "train_set_r2 = r2_score(y_trainscaled, predregrtrain)\n",
    "print('Linear model, R2 train score is : {} and the train root mean square Without scaling is: {}'\n",
    "     .format(train_set_r2,train_set_rmse))\n",
    "\n",
    "test_set_rmse = (np.sqrt(mean_squared_error(predregrtest,y_testscaled )))\n",
    "test_set_r2 = r2_score(y_testscaled, predregrtest)\n",
    "print('Linear model, R2 test score is : {} and the test root mean square without scaling is: {}'\n",
    "     .format(test_set_r2,test_set_rmse))"
   ]
  },
  {
   "cell_type": "markdown",
   "id": "4808ff62",
   "metadata": {},
   "source": [
    "### The test scores are better with scaling than without scaling. "
   ]
  },
  {
   "cell_type": "markdown",
   "id": "8236be5a",
   "metadata": {},
   "source": [
    "# SVR regression"
   ]
  },
  {
   "cell_type": "markdown",
   "id": "ae787aff",
   "metadata": {},
   "source": [
    "Without scaling: "
   ]
  },
  {
   "cell_type": "code",
   "execution_count": 45,
   "id": "c1c966a9",
   "metadata": {},
   "outputs": [
    {
     "name": "stdout",
     "output_type": "stream",
     "text": [
      "C = 100000.00\n",
      " SVR R2 training: 0.80, R2 test: 0.60\n",
      "\n",
      "C = 150000.00\n",
      " SVR R2 training: 0.82, R2 test: 0.38\n",
      "\n",
      "C = 200000.00\n",
      " SVR R2 training: 0.84, R2 test: -0.00\n",
      "\n",
      "C = 250000.00\n",
      " SVR R2 training: 0.84, R2 test: 0.03\n",
      "\n"
     ]
    }
   ],
   "source": [
    "C=[100000,150000,200000,250000 ]\n",
    "for i in C:\n",
    "    svr_Model = SVR(C = i).fit(X_train, y_train)\n",
    "    r2_train_svr = svr_Model.score(X_train, y_train)\n",
    "    r2_test_svr=svr_Model.score(X_test, y_test)\n",
    "    print('C = {:.2f}\\n \\\n",
    "SVR R2 training: {:.2f}, R2 test: {:.2f}\\n'\n",
    "         .format(i, r2_train_svr, r2_test_svr))"
   ]
  },
  {
   "cell_type": "markdown",
   "id": "97ce545d",
   "metadata": {},
   "source": [
    "Without scaling"
   ]
  },
  {
   "cell_type": "code",
   "execution_count": 46,
   "id": "d2fbeb20",
   "metadata": {},
   "outputs": [],
   "source": [
    "svr_Model=SVR()\n",
    "\n",
    "param = {'C' : [100000,150000,200000,250000 ]}\n",
    "\n",
    "gridSearchSVR=GridSearchCV(svr_Model,param,scoring='r2',cv=5)\n",
    "gridSearchSVR.fit(X_trainscaled,y_trainscaled)\n",
    "\n",
    "\n",
    "best_SVR=gridSearchSVR.best_estimator_\n",
    "bestSVR_testScore=best_SVR.score(X_testscaled,y_testscaled)"
   ]
  },
  {
   "cell_type": "code",
   "execution_count": 47,
   "id": "22c95237",
   "metadata": {},
   "outputs": [
    {
     "name": "stdout",
     "output_type": "stream",
     "text": [
      "The best R2 train score is : -0.29 with C = 100000.00\n",
      " \n",
      "The best R2 test score is : -0.82\n",
      " with Alpha = 100000.00\n",
      " \n"
     ]
    }
   ],
   "source": [
    "print('The best R2 train score is : {:.2f} with C = {:.2f}\\n \\\n",
    "'.format(gridSearchSVR.best_score_,gridSearchSVR.best_params_['C']))\n",
    "print('The best R2 test score is : {:.2f}\\n with Alpha = {:.2f}\\n \\\n",
    "'.format(bestSVR_testScore,gridSearchSVR.best_params_['C']))"
   ]
  },
  {
   "cell_type": "code",
   "execution_count": 48,
   "id": "aaef9789",
   "metadata": {},
   "outputs": [],
   "source": [
    "reporting['SVR']=gridSearchSVR.best_score_"
   ]
  },
  {
   "cell_type": "markdown",
   "id": "0d0fefef",
   "metadata": {},
   "source": [
    "Random Forest Regressor"
   ]
  },
  {
   "cell_type": "code",
   "execution_count": 49,
   "id": "2e6ce352",
   "metadata": {},
   "outputs": [],
   "source": [
    "randomForestAlgo = RandomForestRegressor()\n",
    "\n",
    "\n",
    "param = {'n_estimators' : [400,450,480], \n",
    "         'max_depth' : [100,120,140],\n",
    "         'min_samples_split':[4],\n",
    "         'min_samples_leaf':[2],\n",
    "         'bootstrap' : [True]\n",
    "        }\n",
    "\n",
    "gridSearch_RandomForest=GridSearchCV(randomForestAlgo,param,scoring='r2',cv=3)\n",
    "gridSearch_RandomForest.fit(X_train,y_train)\n",
    "\n",
    "best_randomForest=gridSearch_RandomForest.best_estimator_\n",
    "bestRandomForest_testScore=best_randomForest.score(X_test,y_test)"
   ]
  },
  {
   "cell_type": "code",
   "execution_count": 50,
   "id": "c3ca0ca8",
   "metadata": {},
   "outputs": [
    {
     "name": "stdout",
     "output_type": "stream",
     "text": [
      "The best Random Forest R2 train score is : 0.68 with n estimators = 480.00, max depth : 120.00, min samples split : 4 and min samples leaf : 2  \n",
      " \n",
      "The best Random Forest R2 test score is : 0.74 with n estimators = 480.00, max depth : 120.00, min samples split : 4 and min samples leaf : 2  \n",
      " \n"
     ]
    }
   ],
   "source": [
    "print('The best Random Forest R2 train score is : {:.2f} with n estimators = {:.2f}, max depth : {:.2f}, min samples split : {} and min samples leaf : {}  \\n \\\n",
    "'.format(gridSearch_RandomForest.best_score_,gridSearch_RandomForest.best_params_['n_estimators'],gridSearch_RandomForest.best_params_['max_depth'],gridSearch_RandomForest.best_params_['min_samples_split'],gridSearch_RandomForest.best_params_['min_samples_leaf'] ))\n",
    "print('The best Random Forest R2 test score is : {:.2f} with n estimators = {:.2f}, max depth : {:.2f}, min samples split : {} and min samples leaf : {}  \\n \\\n",
    "'.format(bestRandomForest_testScore,gridSearch_RandomForest.best_params_['n_estimators'],gridSearch_RandomForest.best_params_['max_depth'],gridSearch_RandomForest.best_params_['min_samples_split'],gridSearch_RandomForest.best_params_['min_samples_leaf'] ))"
   ]
  },
  {
   "cell_type": "code",
   "execution_count": 51,
   "id": "741c41da",
   "metadata": {},
   "outputs": [],
   "source": [
    "reporting['Random Forest Regressor']=bestRandomForest_testScore"
   ]
  },
  {
   "cell_type": "markdown",
   "id": "8de3debd",
   "metadata": {},
   "source": [
    "# Extra Trees Regressor"
   ]
  },
  {
   "cell_type": "code",
   "execution_count": 52,
   "id": "5f4623da",
   "metadata": {},
   "outputs": [],
   "source": [
    "extraTreesAlgo = ExtraTreesRegressor()\n",
    "\n",
    "param = {'n_estimators' : [400,450,480], \n",
    "         'max_depth' : [100,120,140],\n",
    "         'min_samples_split':[4],\n",
    "         'min_samples_leaf':[2],\n",
    "         'bootstrap' : [True]\n",
    "        }\n",
    "\n",
    "gridSearch_ExtraTrees=GridSearchCV(extraTreesAlgo,param,scoring='r2',cv=5)\n",
    "gridSearch_ExtraTrees.fit(X_train,y_train)\n",
    "\n",
    "best_ExtrasTrees=gridSearch_ExtraTrees.best_estimator_\n",
    "bestExtrasTrees_testScore=best_ExtrasTrees.score(X_test,y_test)"
   ]
  },
  {
   "cell_type": "code",
   "execution_count": 53,
   "id": "15da37ab",
   "metadata": {},
   "outputs": [
    {
     "name": "stdout",
     "output_type": "stream",
     "text": [
      "The best Random Forest R2 score is : 0.72 with n estimators = 450.00, max depth : 140.00, min samples split : 4 and min samples leaf : 2  \n",
      " \n",
      "The best Random Forest R2 test score is : 0.76 with n estimators = 450.00, max depth : 140.00, min samples split : 4 and min samples leaf : 2  \n",
      " \n"
     ]
    }
   ],
   "source": [
    "print('The best Random Forest R2 score is : {:.2f} with n estimators = {:.2f}, max depth : {:.2f}, min samples split : {} and min samples leaf : {}  \\n \\\n",
    "'.format(gridSearch_ExtraTrees.best_score_,gridSearch_ExtraTrees.best_params_['n_estimators'],gridSearch_ExtraTrees.best_params_['max_depth'],gridSearch_ExtraTrees.best_params_['min_samples_split'],gridSearch_ExtraTrees.best_params_['min_samples_leaf'] ))\n",
    "print('The best Random Forest R2 test score is : {:.2f} with n estimators = {:.2f}, max depth : {:.2f}, min samples split : {} and min samples leaf : {}  \\n \\\n",
    "'.format(bestExtrasTrees_testScore,gridSearch_ExtraTrees.best_params_['n_estimators'],gridSearch_ExtraTrees.best_params_['max_depth'],gridSearch_ExtraTrees.best_params_['min_samples_split'],gridSearch_ExtraTrees.best_params_['min_samples_leaf'] ))"
   ]
  },
  {
   "cell_type": "code",
   "execution_count": 54,
   "id": "55ffd278",
   "metadata": {},
   "outputs": [],
   "source": [
    "reporting['Extra Trees Regressor']=bestExtrasTrees_testScore"
   ]
  },
  {
   "cell_type": "code",
   "execution_count": 55,
   "id": "5ad11176",
   "metadata": {},
   "outputs": [],
   "source": [
    "df_results=pd.DataFrame()\n",
    "df_results['model']=reporting.keys()\n",
    "df_results['Score R2']=reporting.values()"
   ]
  },
  {
   "cell_type": "code",
   "execution_count": 56,
   "id": "db70f726",
   "metadata": {},
   "outputs": [],
   "source": [
    "df_results=df_results.set_index('model')"
   ]
  },
  {
   "cell_type": "code",
   "execution_count": 57,
   "id": "63887dc8",
   "metadata": {},
   "outputs": [
    {
     "data": {
      "text/html": [
       "<style  type=\"text/css\" >\n",
       "#T_a8158_row0_col0{\n",
       "            background-color:  #ff0000;\n",
       "            color:  #f1f1f1;\n",
       "        }#T_a8158_row1_col0{\n",
       "            background-color:  #ff0505;\n",
       "            color:  #f1f1f1;\n",
       "        }#T_a8158_row2_col0{\n",
       "            background-color:  #ff0808;\n",
       "            color:  #f1f1f1;\n",
       "        }#T_a8158_row3_col0{\n",
       "            background-color:  #f3f0f0;\n",
       "            color:  #000000;\n",
       "        }</style><table id=\"T_a8158_\" ><thead>    <tr>        <th class=\"blank level0\" ></th>        <th class=\"col_heading level0 col0\" >Score R2</th>    </tr>    <tr>        <th class=\"index_name level0\" >model</th>        <th class=\"blank\" ></th>    </tr></thead><tbody>\n",
       "                <tr>\n",
       "                        <th id=\"T_a8158_level0_row0\" class=\"row_heading level0 row0\" >Extra Trees Regressor</th>\n",
       "                        <td id=\"T_a8158_row0_col0\" class=\"data row0 col0\" >0.761074</td>\n",
       "            </tr>\n",
       "            <tr>\n",
       "                        <th id=\"T_a8158_level0_row1\" class=\"row_heading level0 row1\" >Random Forest Regressor</th>\n",
       "                        <td id=\"T_a8158_row1_col0\" class=\"data row1 col0\" >0.738635</td>\n",
       "            </tr>\n",
       "            <tr>\n",
       "                        <th id=\"T_a8158_level0_row2\" class=\"row_heading level0 row2\" >Multiple Linear regression</th>\n",
       "                        <td id=\"T_a8158_row2_col0\" class=\"data row2 col0\" >0.725597</td>\n",
       "            </tr>\n",
       "            <tr>\n",
       "                        <th id=\"T_a8158_level0_row3\" class=\"row_heading level0 row3\" >SVR</th>\n",
       "                        <td id=\"T_a8158_row3_col0\" class=\"data row3 col0\" >-0.294363</td>\n",
       "            </tr>\n",
       "    </tbody></table>"
      ],
      "text/plain": [
       "<pandas.io.formats.style.Styler at 0x20fd2ebe790>"
      ]
     },
     "execution_count": 57,
     "metadata": {},
     "output_type": "execute_result"
    }
   ],
   "source": [
    "dfVizModels=pd.DataFrame(df_results['Score R2'].sort_values(ascending=False))\n",
    "dfVizModels.style.background_gradient(cmap=sns.light_palette(\"red\", as_cmap=True))"
   ]
  },
  {
   "cell_type": "markdown",
   "id": "4c947254",
   "metadata": {},
   "source": [
    "### The best model after grid search is the Extra Tree regressor with a R2 score of 0.80 rounded to the nearest tenth. "
   ]
  },
  {
   "cell_type": "code",
   "execution_count": 58,
   "id": "514a52bf",
   "metadata": {},
   "outputs": [],
   "source": [
    "test=pd.read_csv(\"C:/Users/User/Downloads/dataset.csv\")"
   ]
  },
  {
   "cell_type": "code",
   "execution_count": 59,
   "id": "92c9d294",
   "metadata": {},
   "outputs": [
    {
     "data": {
      "text/plain": [
       "name            Mesut Ozil\n",
       "club               Arsenal\n",
       "age                     28\n",
       "position                AM\n",
       "position_cat             1\n",
       "market_value          50.0\n",
       "page_views            4395\n",
       "fpl_value              9.5\n",
       "fpl_sel              5.60%\n",
       "fpl_points             167\n",
       "region                 2.0\n",
       "nationality        Germany\n",
       "new_foreign              0\n",
       "age_cat                  4\n",
       "club_id                  1\n",
       "big_club                 1\n",
       "new_signing              0\n",
       "Name: 1, dtype: object"
      ]
     },
     "execution_count": 59,
     "metadata": {},
     "output_type": "execute_result"
    }
   ],
   "source": [
    "test.loc[1]"
   ]
  },
  {
   "cell_type": "code",
   "execution_count": 60,
   "id": "2d99517a",
   "metadata": {},
   "outputs": [],
   "source": [
    "test=test.drop([\"name\",\"club\",\"age\",\"nationality\",\"position\",\"club_id\",\"market_value\",\"fpl_sel\"],axis=1)"
   ]
  },
  {
   "cell_type": "code",
   "execution_count": 61,
   "id": "c10427c5",
   "metadata": {},
   "outputs": [
    {
     "data": {
      "text/plain": [
       "[array([1.000e+00, 4.395e+03, 9.500e+00, 1.670e+02, 2.000e+00, 0.000e+00,\n",
       "        4.000e+00, 1.000e+00, 0.000e+00])]"
      ]
     },
     "execution_count": 61,
     "metadata": {},
     "output_type": "execute_result"
    }
   ],
   "source": [
    "player=test.iloc[1,:].values\n",
    "[player]"
   ]
  },
  {
   "cell_type": "code",
   "execution_count": 62,
   "id": "a6c54a44",
   "metadata": {},
   "outputs": [
    {
     "data": {
      "text/plain": [
       "50.38447286663953"
      ]
     },
     "execution_count": 62,
     "metadata": {},
     "output_type": "execute_result"
    }
   ],
   "source": [
    "best_ExtrasTrees.predict([player])[0]"
   ]
  },
  {
   "cell_type": "code",
   "execution_count": 63,
   "id": "334e0b8b",
   "metadata": {},
   "outputs": [
    {
     "data": {
      "text/plain": [
       "50.0"
      ]
     },
     "execution_count": 63,
     "metadata": {},
     "output_type": "execute_result"
    }
   ],
   "source": [
    "data.loc[1]['market_value'] "
   ]
  },
  {
   "cell_type": "markdown",
   "id": "85e4ff3e",
   "metadata": {},
   "source": [
    "It is evident that our prediction is very accurate. "
   ]
  },
  {
   "cell_type": "markdown",
   "id": "97bef39b",
   "metadata": {},
   "source": [
    "# Table of the Top 50 player's name, real value and prediction"
   ]
  },
  {
   "cell_type": "code",
   "execution_count": 64,
   "id": "73433efa",
   "metadata": {},
   "outputs": [],
   "source": [
    "pd.set_option('display.float_format', '{:,}'.format)"
   ]
  },
  {
   "cell_type": "code",
   "execution_count": 65,
   "id": "538aecd4",
   "metadata": {},
   "outputs": [],
   "source": [
    "df_pred=pd.DataFrame(columns=['name','market_value', 'Prediction'])"
   ]
  },
  {
   "cell_type": "code",
   "execution_count": 66,
   "id": "9de17e87",
   "metadata": {},
   "outputs": [],
   "source": [
    "df_pred['name']= [i for i in data[:100].name]"
   ]
  },
  {
   "cell_type": "code",
   "execution_count": 67,
   "id": "9239121e",
   "metadata": {},
   "outputs": [],
   "source": [
    "df_pred['market_value']= [round(i,0) for i in data.loc[:99]['market_value']]"
   ]
  },
  {
   "cell_type": "code",
   "execution_count": 68,
   "id": "5af80ca1",
   "metadata": {},
   "outputs": [],
   "source": [
    "player_stats=test.iloc[:,:].values\n",
    "df_pred['Prediction']=[round(best_ExtrasTrees.predict([player])[0],0) for player in player_stats[:100]]"
   ]
  },
  {
   "cell_type": "code",
   "execution_count": 69,
   "id": "4f5d2b42",
   "metadata": {},
   "outputs": [],
   "source": [
    "df_pred['Difference']= round(abs(df_pred['market_value']-df_pred['Prediction']),0)"
   ]
  },
  {
   "cell_type": "code",
   "execution_count": 70,
   "id": "79c216d4",
   "metadata": {},
   "outputs": [
    {
     "data": {
      "text/html": [
       "<div>\n",
       "<style scoped>\n",
       "    .dataframe tbody tr th:only-of-type {\n",
       "        vertical-align: middle;\n",
       "    }\n",
       "\n",
       "    .dataframe tbody tr th {\n",
       "        vertical-align: top;\n",
       "    }\n",
       "\n",
       "    .dataframe thead th {\n",
       "        text-align: right;\n",
       "    }\n",
       "</style>\n",
       "<table border=\"1\" class=\"dataframe\">\n",
       "  <thead>\n",
       "    <tr style=\"text-align: right;\">\n",
       "      <th></th>\n",
       "      <th>name</th>\n",
       "      <th>market_value</th>\n",
       "      <th>Prediction</th>\n",
       "      <th>Difference</th>\n",
       "    </tr>\n",
       "  </thead>\n",
       "  <tbody>\n",
       "    <tr>\n",
       "      <th>0</th>\n",
       "      <td>Alexis Sanchez</td>\n",
       "      <td>65.0</td>\n",
       "      <td>58.0</td>\n",
       "      <td>7.0</td>\n",
       "    </tr>\n",
       "    <tr>\n",
       "      <th>1</th>\n",
       "      <td>Mesut Ozil</td>\n",
       "      <td>50.0</td>\n",
       "      <td>50.0</td>\n",
       "      <td>0.0</td>\n",
       "    </tr>\n",
       "    <tr>\n",
       "      <th>2</th>\n",
       "      <td>Petr Cech</td>\n",
       "      <td>7.0</td>\n",
       "      <td>15.0</td>\n",
       "      <td>8.0</td>\n",
       "    </tr>\n",
       "    <tr>\n",
       "      <th>3</th>\n",
       "      <td>Theo Walcott</td>\n",
       "      <td>20.0</td>\n",
       "      <td>25.0</td>\n",
       "      <td>5.0</td>\n",
       "    </tr>\n",
       "    <tr>\n",
       "      <th>4</th>\n",
       "      <td>Laurent Koscielny</td>\n",
       "      <td>22.0</td>\n",
       "      <td>26.0</td>\n",
       "      <td>4.0</td>\n",
       "    </tr>\n",
       "    <tr>\n",
       "      <th>5</th>\n",
       "      <td>Hector Bellerin</td>\n",
       "      <td>30.0</td>\n",
       "      <td>28.0</td>\n",
       "      <td>2.0</td>\n",
       "    </tr>\n",
       "    <tr>\n",
       "      <th>6</th>\n",
       "      <td>Olivier Giroud</td>\n",
       "      <td>22.0</td>\n",
       "      <td>34.0</td>\n",
       "      <td>12.0</td>\n",
       "    </tr>\n",
       "    <tr>\n",
       "      <th>7</th>\n",
       "      <td>Nacho Monreal</td>\n",
       "      <td>13.0</td>\n",
       "      <td>19.0</td>\n",
       "      <td>6.0</td>\n",
       "    </tr>\n",
       "    <tr>\n",
       "      <th>8</th>\n",
       "      <td>Shkodran Mustafi</td>\n",
       "      <td>30.0</td>\n",
       "      <td>28.0</td>\n",
       "      <td>2.0</td>\n",
       "    </tr>\n",
       "    <tr>\n",
       "      <th>9</th>\n",
       "      <td>Alex Iwobi</td>\n",
       "      <td>10.0</td>\n",
       "      <td>24.0</td>\n",
       "      <td>14.0</td>\n",
       "    </tr>\n",
       "    <tr>\n",
       "      <th>10</th>\n",
       "      <td>Granit Xhaka</td>\n",
       "      <td>35.0</td>\n",
       "      <td>28.0</td>\n",
       "      <td>7.0</td>\n",
       "    </tr>\n",
       "    <tr>\n",
       "      <th>11</th>\n",
       "      <td>Alex Oxlade-Chamberlain</td>\n",
       "      <td>22.0</td>\n",
       "      <td>24.0</td>\n",
       "      <td>2.0</td>\n",
       "    </tr>\n",
       "    <tr>\n",
       "      <th>12</th>\n",
       "      <td>Jack Wilshere</td>\n",
       "      <td>18.0</td>\n",
       "      <td>22.0</td>\n",
       "      <td>4.0</td>\n",
       "    </tr>\n",
       "    <tr>\n",
       "      <th>13</th>\n",
       "      <td>Aaron Ramsey</td>\n",
       "      <td>35.0</td>\n",
       "      <td>26.0</td>\n",
       "      <td>9.0</td>\n",
       "    </tr>\n",
       "    <tr>\n",
       "      <th>14</th>\n",
       "      <td>Francis Coquelin</td>\n",
       "      <td>15.0</td>\n",
       "      <td>13.0</td>\n",
       "      <td>2.0</td>\n",
       "    </tr>\n",
       "    <tr>\n",
       "      <th>15</th>\n",
       "      <td>Gabriel Paulista</td>\n",
       "      <td>13.0</td>\n",
       "      <td>13.0</td>\n",
       "      <td>0.0</td>\n",
       "    </tr>\n",
       "    <tr>\n",
       "      <th>16</th>\n",
       "      <td>Kieran Gibbs</td>\n",
       "      <td>10.0</td>\n",
       "      <td>11.0</td>\n",
       "      <td>1.0</td>\n",
       "    </tr>\n",
       "    <tr>\n",
       "      <th>17</th>\n",
       "      <td>Santi Cazorla</td>\n",
       "      <td>12.0</td>\n",
       "      <td>18.0</td>\n",
       "      <td>6.0</td>\n",
       "    </tr>\n",
       "    <tr>\n",
       "      <th>18</th>\n",
       "      <td>Danny Welbeck</td>\n",
       "      <td>15.0</td>\n",
       "      <td>20.0</td>\n",
       "      <td>5.0</td>\n",
       "    </tr>\n",
       "    <tr>\n",
       "      <th>19</th>\n",
       "      <td>Rob Holding</td>\n",
       "      <td>7.0</td>\n",
       "      <td>9.0</td>\n",
       "      <td>2.0</td>\n",
       "    </tr>\n",
       "    <tr>\n",
       "      <th>20</th>\n",
       "      <td>Mohamed Elneny</td>\n",
       "      <td>10.0</td>\n",
       "      <td>12.0</td>\n",
       "      <td>2.0</td>\n",
       "    </tr>\n",
       "    <tr>\n",
       "      <th>21</th>\n",
       "      <td>Lucas Perez</td>\n",
       "      <td>15.0</td>\n",
       "      <td>20.0</td>\n",
       "      <td>5.0</td>\n",
       "    </tr>\n",
       "    <tr>\n",
       "      <th>22</th>\n",
       "      <td>Emiliano Martinez</td>\n",
       "      <td>1.0</td>\n",
       "      <td>6.0</td>\n",
       "      <td>5.0</td>\n",
       "    </tr>\n",
       "    <tr>\n",
       "      <th>23</th>\n",
       "      <td>David Ospina</td>\n",
       "      <td>7.0</td>\n",
       "      <td>7.0</td>\n",
       "      <td>0.0</td>\n",
       "    </tr>\n",
       "    <tr>\n",
       "      <th>24</th>\n",
       "      <td>Carl Jenkinson</td>\n",
       "      <td>5.0</td>\n",
       "      <td>7.0</td>\n",
       "      <td>2.0</td>\n",
       "    </tr>\n",
       "    <tr>\n",
       "      <th>25</th>\n",
       "      <td>Per Mertesacker</td>\n",
       "      <td>6.0</td>\n",
       "      <td>7.0</td>\n",
       "      <td>1.0</td>\n",
       "    </tr>\n",
       "    <tr>\n",
       "      <th>26</th>\n",
       "      <td>Sead Kolasinac</td>\n",
       "      <td>15.0</td>\n",
       "      <td>23.0</td>\n",
       "      <td>8.0</td>\n",
       "    </tr>\n",
       "    <tr>\n",
       "      <th>27</th>\n",
       "      <td>Alexandre Lacazette</td>\n",
       "      <td>40.0</td>\n",
       "      <td>41.0</td>\n",
       "      <td>1.0</td>\n",
       "    </tr>\n",
       "    <tr>\n",
       "      <th>28</th>\n",
       "      <td>Joshua King</td>\n",
       "      <td>8.0</td>\n",
       "      <td>15.0</td>\n",
       "      <td>7.0</td>\n",
       "    </tr>\n",
       "    <tr>\n",
       "      <th>29</th>\n",
       "      <td>Jermain Defoe</td>\n",
       "      <td>5.0</td>\n",
       "      <td>14.0</td>\n",
       "      <td>9.0</td>\n",
       "    </tr>\n",
       "    <tr>\n",
       "      <th>30</th>\n",
       "      <td>Charlie Daniels</td>\n",
       "      <td>3.0</td>\n",
       "      <td>6.0</td>\n",
       "      <td>3.0</td>\n",
       "    </tr>\n",
       "    <tr>\n",
       "      <th>31</th>\n",
       "      <td>Artur Boruc</td>\n",
       "      <td>1.0</td>\n",
       "      <td>2.0</td>\n",
       "      <td>1.0</td>\n",
       "    </tr>\n",
       "    <tr>\n",
       "      <th>32</th>\n",
       "      <td>Steve Cook</td>\n",
       "      <td>5.0</td>\n",
       "      <td>6.0</td>\n",
       "      <td>1.0</td>\n",
       "    </tr>\n",
       "    <tr>\n",
       "      <th>33</th>\n",
       "      <td>Junior Stanislas</td>\n",
       "      <td>4.0</td>\n",
       "      <td>7.0</td>\n",
       "      <td>3.0</td>\n",
       "    </tr>\n",
       "    <tr>\n",
       "      <th>34</th>\n",
       "      <td>Adam Smith</td>\n",
       "      <td>5.0</td>\n",
       "      <td>6.0</td>\n",
       "      <td>1.0</td>\n",
       "    </tr>\n",
       "    <tr>\n",
       "      <th>35</th>\n",
       "      <td>Ryan Fraser</td>\n",
       "      <td>5.0</td>\n",
       "      <td>7.0</td>\n",
       "      <td>2.0</td>\n",
       "    </tr>\n",
       "    <tr>\n",
       "      <th>36</th>\n",
       "      <td>Simon Francis</td>\n",
       "      <td>2.0</td>\n",
       "      <td>3.0</td>\n",
       "      <td>1.0</td>\n",
       "    </tr>\n",
       "    <tr>\n",
       "      <th>37</th>\n",
       "      <td>Benik Afobe</td>\n",
       "      <td>10.0</td>\n",
       "      <td>10.0</td>\n",
       "      <td>0.0</td>\n",
       "    </tr>\n",
       "    <tr>\n",
       "      <th>38</th>\n",
       "      <td>Harry Arter</td>\n",
       "      <td>2.0</td>\n",
       "      <td>10.0</td>\n",
       "      <td>8.0</td>\n",
       "    </tr>\n",
       "    <tr>\n",
       "      <th>39</th>\n",
       "      <td>Marc Pugh</td>\n",
       "      <td>2.0</td>\n",
       "      <td>3.0</td>\n",
       "      <td>1.0</td>\n",
       "    </tr>\n",
       "    <tr>\n",
       "      <th>40</th>\n",
       "      <td>Callum Wilson</td>\n",
       "      <td>10.0</td>\n",
       "      <td>8.0</td>\n",
       "      <td>2.0</td>\n",
       "    </tr>\n",
       "    <tr>\n",
       "      <th>41</th>\n",
       "      <td>Nathan Ake</td>\n",
       "      <td>8.0</td>\n",
       "      <td>10.0</td>\n",
       "      <td>2.0</td>\n",
       "    </tr>\n",
       "    <tr>\n",
       "      <th>42</th>\n",
       "      <td>Dan Gosling</td>\n",
       "      <td>3.0</td>\n",
       "      <td>5.0</td>\n",
       "      <td>2.0</td>\n",
       "    </tr>\n",
       "    <tr>\n",
       "      <th>43</th>\n",
       "      <td>Andrew Surman</td>\n",
       "      <td>2.0</td>\n",
       "      <td>3.0</td>\n",
       "      <td>1.0</td>\n",
       "    </tr>\n",
       "    <tr>\n",
       "      <th>44</th>\n",
       "      <td>Jordon Ibe</td>\n",
       "      <td>8.0</td>\n",
       "      <td>5.0</td>\n",
       "      <td>3.0</td>\n",
       "    </tr>\n",
       "    <tr>\n",
       "      <th>45</th>\n",
       "      <td>Lewis Cook</td>\n",
       "      <td>6.0</td>\n",
       "      <td>4.0</td>\n",
       "      <td>2.0</td>\n",
       "    </tr>\n",
       "    <tr>\n",
       "      <th>46</th>\n",
       "      <td>Lys Mousset</td>\n",
       "      <td>4.0</td>\n",
       "      <td>3.0</td>\n",
       "      <td>1.0</td>\n",
       "    </tr>\n",
       "    <tr>\n",
       "      <th>47</th>\n",
       "      <td>Adam Federici</td>\n",
       "      <td>1.0</td>\n",
       "      <td>1.0</td>\n",
       "      <td>0.0</td>\n",
       "    </tr>\n",
       "    <tr>\n",
       "      <th>48</th>\n",
       "      <td>Max Gradel</td>\n",
       "      <td>7.0</td>\n",
       "      <td>5.0</td>\n",
       "      <td>2.0</td>\n",
       "    </tr>\n",
       "    <tr>\n",
       "      <th>49</th>\n",
       "      <td>Tyrone Mings</td>\n",
       "      <td>5.0</td>\n",
       "      <td>5.0</td>\n",
       "      <td>0.0</td>\n",
       "    </tr>\n",
       "  </tbody>\n",
       "</table>\n",
       "</div>"
      ],
      "text/plain": [
       "                       name  market_value  Prediction  Difference\n",
       "0            Alexis Sanchez          65.0        58.0         7.0\n",
       "1                Mesut Ozil          50.0        50.0         0.0\n",
       "2                 Petr Cech           7.0        15.0         8.0\n",
       "3              Theo Walcott          20.0        25.0         5.0\n",
       "4         Laurent Koscielny          22.0        26.0         4.0\n",
       "5           Hector Bellerin          30.0        28.0         2.0\n",
       "6            Olivier Giroud          22.0        34.0        12.0\n",
       "7             Nacho Monreal          13.0        19.0         6.0\n",
       "8          Shkodran Mustafi          30.0        28.0         2.0\n",
       "9                Alex Iwobi          10.0        24.0        14.0\n",
       "10             Granit Xhaka          35.0        28.0         7.0\n",
       "11  Alex Oxlade-Chamberlain          22.0        24.0         2.0\n",
       "12            Jack Wilshere          18.0        22.0         4.0\n",
       "13             Aaron Ramsey          35.0        26.0         9.0\n",
       "14         Francis Coquelin          15.0        13.0         2.0\n",
       "15         Gabriel Paulista          13.0        13.0         0.0\n",
       "16             Kieran Gibbs          10.0        11.0         1.0\n",
       "17            Santi Cazorla          12.0        18.0         6.0\n",
       "18            Danny Welbeck          15.0        20.0         5.0\n",
       "19              Rob Holding           7.0         9.0         2.0\n",
       "20           Mohamed Elneny          10.0        12.0         2.0\n",
       "21              Lucas Perez          15.0        20.0         5.0\n",
       "22        Emiliano Martinez           1.0         6.0         5.0\n",
       "23             David Ospina           7.0         7.0         0.0\n",
       "24           Carl Jenkinson           5.0         7.0         2.0\n",
       "25          Per Mertesacker           6.0         7.0         1.0\n",
       "26           Sead Kolasinac          15.0        23.0         8.0\n",
       "27      Alexandre Lacazette          40.0        41.0         1.0\n",
       "28              Joshua King           8.0        15.0         7.0\n",
       "29            Jermain Defoe           5.0        14.0         9.0\n",
       "30          Charlie Daniels           3.0         6.0         3.0\n",
       "31              Artur Boruc           1.0         2.0         1.0\n",
       "32               Steve Cook           5.0         6.0         1.0\n",
       "33         Junior Stanislas           4.0         7.0         3.0\n",
       "34               Adam Smith           5.0         6.0         1.0\n",
       "35              Ryan Fraser           5.0         7.0         2.0\n",
       "36            Simon Francis           2.0         3.0         1.0\n",
       "37              Benik Afobe          10.0        10.0         0.0\n",
       "38              Harry Arter           2.0        10.0         8.0\n",
       "39                Marc Pugh           2.0         3.0         1.0\n",
       "40            Callum Wilson          10.0         8.0         2.0\n",
       "41               Nathan Ake           8.0        10.0         2.0\n",
       "42              Dan Gosling           3.0         5.0         2.0\n",
       "43            Andrew Surman           2.0         3.0         1.0\n",
       "44               Jordon Ibe           8.0         5.0         3.0\n",
       "45               Lewis Cook           6.0         4.0         2.0\n",
       "46              Lys Mousset           4.0         3.0         1.0\n",
       "47            Adam Federici           1.0         1.0         0.0\n",
       "48               Max Gradel           7.0         5.0         2.0\n",
       "49             Tyrone Mings           5.0         5.0         0.0"
      ]
     },
     "execution_count": 70,
     "metadata": {},
     "output_type": "execute_result"
    }
   ],
   "source": [
    "df_pred[0:50]"
   ]
  },
  {
   "cell_type": "code",
   "execution_count": null,
   "id": "83c9bd36",
   "metadata": {},
   "outputs": [],
   "source": []
  }
 ],
 "metadata": {
  "kernelspec": {
   "display_name": "Python 3",
   "language": "python",
   "name": "python3"
  },
  "language_info": {
   "codemirror_mode": {
    "name": "ipython",
    "version": 3
   },
   "file_extension": ".py",
   "mimetype": "text/x-python",
   "name": "python",
   "nbconvert_exporter": "python",
   "pygments_lexer": "ipython3",
   "version": "3.8.8"
  }
 },
 "nbformat": 4,
 "nbformat_minor": 5
}
